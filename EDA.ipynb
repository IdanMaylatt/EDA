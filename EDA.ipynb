{
 "cells": [
  {
   "cell_type": "markdown",
   "metadata": {},
   "source": [
    "<div style=\"border-radius: 15px; border: 3px solid indigo; padding: 15px;\">\n",
    "<b> Reviewer's comment</b>\n",
    "    \n",
    "Hello, my name is Sveta Nosova and I am going to review this project. \n",
    "\n",
    "Before we start, I want to pay your attention to the color marking:\n",
    "    \n",
    "<div class=\"alert alert-success\" style=\"border-radius: 15px; box-shadow: 4px 4px 4px; border: 1px solid \">\n",
    "<b> Reviewer's comment</b>\n",
    "    \n",
    "Great solutions and ideas that can and should be used in the future are in green comments.   \n",
    "</div>    \n",
    "    \n",
    "    \n",
    "<div class=\"alert alert-warning\" style=\"border-radius: 15px; box-shadow: 4px 4px 4px; border: 1px solid \">\n",
    "<b> Reviewer's comment</b>\n",
    "\n",
    "Yellow color indicates what should be optimized. This is not necessary, but it will be great if you make changes to this project.\n",
    "</div>      \n",
    "    \n",
    "    \n",
    "<div class=\"alert alert-danger\" style=\"border-radius: 15px; box-shadow: 4px 4px 4px; border: 1px solid \">\n",
    "<b> Reviewer's comment</b>\n",
    "\n",
    "Issues that need to be corrected to get right results are indicated in red comments. Note that the project cannot be accepted until these issues are resolved.\n",
    "</div>    \n",
    "\n",
    "<hr>\n",
    "    \n",
    "**Please, use some color other than those listed to highlight answers to my comments.**\n",
    "I would also ask you **not to change, move or delete my comments** so that it would be easier for me to navigate during the next review.\n",
    "    \n",
    "In addition, my comments are defined as headings. \n",
    "They can mess up the content, however, they are convenient, since you can immediately go to them. I will remove the headings from my comments in the next review. \n",
    "   \n",
    "    \n",
    "    \n",
    "<hr>\n",
    "    \n",
    "<font color='dodgerblue'>**A few words about the project:**</font> you did a good job, everything is clear and neat, there is an analysis and intermediate conclusions. I still have some questions that I've written in my comments. I've also left there some recommendations for improving the project.\n",
    "    \n",
    "    \n",
    "I will wait for the project for a second review :)\n",
    "    \n",
    "    \n",
    "    \n",
    "Here are some hints that may help you with Markdown cells:    \n",
    "<hr style=\"border-top: 3px solid purple; \"></hr>\n",
    "\n",
    "You can leave comments using this code inside a Markdown cell:\n",
    "    \n",
    "    \n",
    "    <div class=\"alert alert-info\">\n",
    "    <h2> Student's comment</h2>\n",
    "\n",
    "    Your text here. \n",
    "    </div>\n",
    "\n",
    "    \n",
    "    \n",
    "    <font color='red'> This code is used to change text color. </font>     \n",
    "\n",
    "<font color='red'> It will look like this. </font> \n",
    "    \n",
    "If you don't want your comments to be headings, replace **h2** with **b** or just add `<a class=\"tocSkip\">` after the phrase *Student's comment*.\n",
    "\n",
    "\n",
    "You can find out how to **format text** in a Markdown cell or how to **add links** [here](https://sqlbak.com/blog/jupyter-notebook-markdown-cheatsheet) и [and here](https://medium.com/analytics-vidhya/the-ultimate-markdown-guide-for-jupyter-notebook-d5e5abf728fd).\n",
    "</div>"
   ]
  },
  {
   "cell_type": "markdown",
   "metadata": {},
   "source": [
    "<div class=\"alert alert-info\">\n",
    "<h2> Student's comment</h2>\n",
    "\n",
    "Hey, thanks for your review! and sorry for the delay\n",
    "\n",
    "just a little question..\n",
    "i added this line - plt.savefig(''), after a lot of plots/hists because without it i got this line printed:\n",
    "<AxesSubplot:title={'center':'ads by type'}, xlabel='type', ylabel='ads'>\n",
    "whats the normal solution for this?\n",
    "</div>\n"
   ]
  },
  {
   "cell_type": "markdown",
   "metadata": {},
   "source": [
    "<div class=\"alert alert-info\">\n",
    "<h2> Student's comment 2</h2>\n",
    "\n",
    "i dont get the thing with grouping by 2 columns. you said:\n",
    "\n",
    "It's absolutely normal that groupby can give us some Nan-s as some combinations (condition + model_year) can only consist of rows where there is a gap in the target column (odometer).\n",
    "    \n",
    "so you mean that some combinations of condition&model_year have only nan's in their odometer column?\n",
    "and then after you groupby those columns those rows disappear?\n",
    "i thought groupby works differently.. and that if some odometer value is nan, youll still get the row with the matching condition&model_year.\n",
    "\n",
    "i feel like i dont get it:( not sure its your job to explain tough..\n",
    "\n",
    "and again, thanks a lot for your review, i didnt had the time lately but im definitely gonna use it for my next projects. cheers!\n",
    "</div>"
   ]
  },
  {
   "cell_type": "markdown",
   "metadata": {},
   "source": [
    "<div style=\"border-radius: 15px; border: 3px solid indigo; padding: 15px;\">\n",
    "<b> Reviewer's comment 3</b>\n",
    "\n",
    "\n",
    "Yes, that's exactly what I mean. I'll try to expain it. Take a look at the table below:\n",
    "</div>"
   ]
  },
  {
   "cell_type": "code",
   "execution_count": 1,
   "metadata": {},
   "outputs": [],
   "source": [
    "# # Reviewer's code\n",
    "# df = pd.read_csv('/datasets/vehicles_us.csv')\n",
    "\n",
    "# df.pivot_table(index=['condition'], columns = 'model_year', values='odometer', aggfunc='median')"
   ]
  },
  {
   "cell_type": "markdown",
   "metadata": {},
   "source": [
    "<div style=\"border-radius: 15px; border: 3px solid indigo; padding: 15px;\">\n",
    "<b> Reviewer's comment 3</b>\n",
    "\n",
    "\n",
    "Look at 2019 year:</div>"
   ]
  },
  {
   "cell_type": "code",
   "execution_count": 2,
   "metadata": {},
   "outputs": [],
   "source": [
    "# # Reviewer's code\n",
    "\n",
    "# df.pivot_table(index=['condition'], columns = 'model_year', values='odometer', aggfunc='median').loc[:,2019.0]"
   ]
  },
  {
   "cell_type": "markdown",
   "metadata": {},
   "source": [
    "<div style=\"border-radius: 15px; border: 3px solid indigo; padding: 15px;\">\n",
    "<b> Reviewer's comment 3</b>\n",
    "\n",
    "\n",
    "We have medians for all conditions except for *fair*. Just because all other combinations of condition and 2019 year have one or more not Nan value in odometer column, that's why we can calculate median. But fair 2019 year cars all have Nan in this column or we just don't have such cars in our table.\n",
    "\n",
    "\n",
    "\n",
    "Now I'm goint to print *good* 2019 cars odometer column. There will be some not Nan values. And maybe some Nan-s, but it is not important, because median calculation ignores them:</div>"
   ]
  },
  {
   "cell_type": "code",
   "execution_count": 3,
   "metadata": {},
   "outputs": [],
   "source": [
    "# # Reviewer's code\n",
    "\n",
    "# df.query('model_year == 2019 and condition==\"good\"')['odometer']"
   ]
  },
  {
   "cell_type": "code",
   "execution_count": 4,
   "metadata": {},
   "outputs": [],
   "source": [
    "# # Reviewer's code\n",
    "\n",
    "# df.query('model_year == 2019 and condition==\"good\"')['odometer'].median()"
   ]
  },
  {
   "cell_type": "markdown",
   "metadata": {},
   "source": [
    "<div style=\"border-radius: 15px; border: 3px solid indigo; padding: 15px;\">\n",
    "<b> Reviewer's comment 3</b>\n",
    "\n",
    "\n",
    "And *fair*:</div>"
   ]
  },
  {
   "cell_type": "code",
   "execution_count": 5,
   "metadata": {},
   "outputs": [],
   "source": [
    "# # Reviewer's code\n",
    "\n",
    "# df.query('model_year == 2019 and condition==\"fair\"')['odometer']"
   ]
  },
  {
   "cell_type": "code",
   "execution_count": 6,
   "metadata": {},
   "outputs": [],
   "source": [
    "# # Reviewer's code\n",
    "\n",
    "# df.query('model_year == 2019 and condition==\"fair\"')['odometer'].median()"
   ]
  },
  {
   "cell_type": "markdown",
   "metadata": {},
   "source": [
    "<div style=\"border-radius: 15px; border: 3px solid indigo; padding: 15px;\">\n",
    "<b> Reviewer's comment 3</b>\n",
    "\n",
    "\n",
    "As you see, we don't have such cars at all. That's why we see Nan in pivot_table. And if we had, say, 5 rows with nan-s, we still would receive Nan in pivot table. I think you got the idea.\n",
    "    \n",
    "\n",
    "So, when we replace nan-s using groupby (groupby and pivot are the same thing actually), we can replace only these rows, where grouping combinations can give us not Nan value in a target column. Sometimes we still have some Nan-s after groupby fillna, it's ok. The remaining gaps can be ignored or replaced in 1-parameter grouping instead of 2-parameter (just in condition groupby, for instance). \n",
    "    \n",
    "    \n",
    "<hr>\n",
    "    \n",
    "    \n",
    "All in all, you’ve made a great progress, I am really glad. And I hope that the review was helpful. I tried to make it helpful :) \n",
    "    \n",
    "    \n",
    "Your project has passed code review. Congratulations 😊\n",
    "    \n",
    "    \n",
    "Take care and good luck! 😊       \n",
    "</div>"
   ]
  },
  {
   "cell_type": "markdown",
   "metadata": {},
   "source": [
    "<hr>\n",
    "<div style=\"border-radius: 15px; border: 3px solid indigo; padding: 15px;\">\n",
    "<b> Reviewer's comment 2</b>\n",
    "\n",
    "\n",
    "Thank you for sending the corrected version of the project. You've done a great job, I really appreciate it and happy to see the results 😊 I've left a few comments titled as **Reviewer's comment 2**. I've also removed the headings from the old comments. \n",
    "\n",
    "\n",
    "> without it i got this line printed: <AxesSubplot:title={'center':'ads by type'}, xlabel='type', ylabel='ads'> \n",
    "    \n",
    "    \n",
    "After each graph call `plt.show()`. It will remove this strange line :) \n",
    "    \n",
    "    \n",
    "    \n",
    "Two issues still need the review. The cell with **ylabel** doesn't work and I think that we just use different lib versions. Try to define ylabel as `plt.ylabel('text')`. Another issues is $1 cars, they are still in out dataframe.   \n",
    "\n",
    "\n",
    "Then I will be able to accept the project :)\n",
    "</div>"
   ]
  },
  {
   "cell_type": "markdown",
   "metadata": {},
   "source": [
    "# Research on car sales ads\n",
    "\n",
    "You're an analyst at Crankshaft List. Hundreds of free advertisements for vehicles are published on your site every day.\n",
    "\n",
    "You need to study data collected over the last few years and determine which factors influence the price of a vehicle. "
   ]
  },
  {
   "cell_type": "markdown",
   "metadata": {},
   "source": [
    "<div class=\"alert alert-success\" style=\"border-radius: 15px; box-shadow: 4px 4px 4px; border: 1px solid \">\n",
    "<b> Reviewer's comment</b>\n",
    "    \n",
    "There's a short introduction, which is good. It is important to write an introductory part, because it gives an idea about the content of the project.\n",
    "</div>"
   ]
  },
  {
   "cell_type": "markdown",
   "metadata": {},
   "source": [
    "## Open the data file and study the general information. "
   ]
  },
  {
   "cell_type": "code",
   "execution_count": 7,
   "metadata": {},
   "outputs": [],
   "source": [
    "import pandas as pd\n",
    "import matplotlib.pyplot as plt\n",
    "import seaborn as sns"
   ]
  },
  {
   "cell_type": "code",
   "execution_count": 8,
   "metadata": {
    "scrolled": false
   },
   "outputs": [
    {
     "name": "stdout",
     "output_type": "stream",
     "text": [
      "<class 'pandas.core.frame.DataFrame'>\n",
      "RangeIndex: 51525 entries, 0 to 51524\n",
      "Data columns (total 13 columns):\n",
      " #   Column        Non-Null Count  Dtype  \n",
      "---  ------        --------------  -----  \n",
      " 0   price         51525 non-null  int64  \n",
      " 1   model_year    47906 non-null  float64\n",
      " 2   model         51525 non-null  object \n",
      " 3   condition     51525 non-null  object \n",
      " 4   cylinders     46265 non-null  float64\n",
      " 5   fuel          51525 non-null  object \n",
      " 6   odometer      43633 non-null  float64\n",
      " 7   transmission  51525 non-null  object \n",
      " 8   type          51525 non-null  object \n",
      " 9   paint_color   42258 non-null  object \n",
      " 10  is_4wd        25572 non-null  float64\n",
      " 11  date_posted   51525 non-null  object \n",
      " 12  days_listed   51525 non-null  int64  \n",
      "dtypes: float64(4), int64(2), object(7)\n",
      "memory usage: 5.1+ MB\n"
     ]
    },
    {
     "data": {
      "text/html": [
       "<div>\n",
       "<style scoped>\n",
       "    .dataframe tbody tr th:only-of-type {\n",
       "        vertical-align: middle;\n",
       "    }\n",
       "\n",
       "    .dataframe tbody tr th {\n",
       "        vertical-align: top;\n",
       "    }\n",
       "\n",
       "    .dataframe thead th {\n",
       "        text-align: right;\n",
       "    }\n",
       "</style>\n",
       "<table border=\"1\" class=\"dataframe\">\n",
       "  <thead>\n",
       "    <tr style=\"text-align: right;\">\n",
       "      <th></th>\n",
       "      <th>price</th>\n",
       "      <th>model_year</th>\n",
       "      <th>model</th>\n",
       "      <th>condition</th>\n",
       "      <th>cylinders</th>\n",
       "      <th>fuel</th>\n",
       "      <th>odometer</th>\n",
       "      <th>transmission</th>\n",
       "      <th>type</th>\n",
       "      <th>paint_color</th>\n",
       "      <th>is_4wd</th>\n",
       "      <th>date_posted</th>\n",
       "      <th>days_listed</th>\n",
       "    </tr>\n",
       "  </thead>\n",
       "  <tbody>\n",
       "    <tr>\n",
       "      <th>0</th>\n",
       "      <td>9400</td>\n",
       "      <td>2011.0</td>\n",
       "      <td>bmw x5</td>\n",
       "      <td>good</td>\n",
       "      <td>6.0</td>\n",
       "      <td>gas</td>\n",
       "      <td>145000.0</td>\n",
       "      <td>automatic</td>\n",
       "      <td>SUV</td>\n",
       "      <td>NaN</td>\n",
       "      <td>1.0</td>\n",
       "      <td>2018-06-23</td>\n",
       "      <td>19</td>\n",
       "    </tr>\n",
       "    <tr>\n",
       "      <th>1</th>\n",
       "      <td>25500</td>\n",
       "      <td>NaN</td>\n",
       "      <td>ford f-150</td>\n",
       "      <td>good</td>\n",
       "      <td>6.0</td>\n",
       "      <td>gas</td>\n",
       "      <td>88705.0</td>\n",
       "      <td>automatic</td>\n",
       "      <td>pickup</td>\n",
       "      <td>white</td>\n",
       "      <td>1.0</td>\n",
       "      <td>2018-10-19</td>\n",
       "      <td>50</td>\n",
       "    </tr>\n",
       "    <tr>\n",
       "      <th>2</th>\n",
       "      <td>5500</td>\n",
       "      <td>2013.0</td>\n",
       "      <td>hyundai sonata</td>\n",
       "      <td>like new</td>\n",
       "      <td>4.0</td>\n",
       "      <td>gas</td>\n",
       "      <td>110000.0</td>\n",
       "      <td>automatic</td>\n",
       "      <td>sedan</td>\n",
       "      <td>red</td>\n",
       "      <td>NaN</td>\n",
       "      <td>2019-02-07</td>\n",
       "      <td>79</td>\n",
       "    </tr>\n",
       "    <tr>\n",
       "      <th>3</th>\n",
       "      <td>1500</td>\n",
       "      <td>2003.0</td>\n",
       "      <td>ford f-150</td>\n",
       "      <td>fair</td>\n",
       "      <td>8.0</td>\n",
       "      <td>gas</td>\n",
       "      <td>NaN</td>\n",
       "      <td>automatic</td>\n",
       "      <td>pickup</td>\n",
       "      <td>NaN</td>\n",
       "      <td>NaN</td>\n",
       "      <td>2019-03-22</td>\n",
       "      <td>9</td>\n",
       "    </tr>\n",
       "    <tr>\n",
       "      <th>4</th>\n",
       "      <td>14900</td>\n",
       "      <td>2017.0</td>\n",
       "      <td>chrysler 200</td>\n",
       "      <td>excellent</td>\n",
       "      <td>4.0</td>\n",
       "      <td>gas</td>\n",
       "      <td>80903.0</td>\n",
       "      <td>automatic</td>\n",
       "      <td>sedan</td>\n",
       "      <td>black</td>\n",
       "      <td>NaN</td>\n",
       "      <td>2019-04-02</td>\n",
       "      <td>28</td>\n",
       "    </tr>\n",
       "  </tbody>\n",
       "</table>\n",
       "</div>"
      ],
      "text/plain": [
       "   price  model_year           model  condition  cylinders fuel  odometer  \\\n",
       "0   9400      2011.0          bmw x5       good        6.0  gas  145000.0   \n",
       "1  25500         NaN      ford f-150       good        6.0  gas   88705.0   \n",
       "2   5500      2013.0  hyundai sonata   like new        4.0  gas  110000.0   \n",
       "3   1500      2003.0      ford f-150       fair        8.0  gas       NaN   \n",
       "4  14900      2017.0    chrysler 200  excellent        4.0  gas   80903.0   \n",
       "\n",
       "  transmission    type paint_color  is_4wd date_posted  days_listed  \n",
       "0    automatic     SUV         NaN     1.0  2018-06-23           19  \n",
       "1    automatic  pickup       white     1.0  2018-10-19           50  \n",
       "2    automatic   sedan         red     NaN  2019-02-07           79  \n",
       "3    automatic  pickup         NaN     NaN  2019-03-22            9  \n",
       "4    automatic   sedan       black     NaN  2019-04-02           28  "
      ]
     },
     "execution_count": 8,
     "metadata": {},
     "output_type": "execute_result"
    }
   ],
   "source": [
    "try:\n",
    "    vehicle_board = pd.read_csv('vehicles_us.csv')\n",
    "except:\n",
    "    vehicle_board = pd.read_csv('/datasets/vehicles_us.csv')\n",
    "\n",
    "vehicle_board.info()\n",
    "vehicle_board.head()"
   ]
  },
  {
   "cell_type": "markdown",
   "metadata": {},
   "source": [
    "<div class=\"alert alert-success\" style=\"border-radius: 15px; box-shadow: 4px 4px 4px; border: 1px solid \">\n",
    "<b> Reviewer's comment</b>\n",
    "    \n",
    "It's very good that you use `try-except`. Another good practice is to add `else` and `finally`. Thus, `try` block allows us to handle some error. The `except` block catches the exceptions. `else` does something if there's no error. `finally` is to be executed in any case, whether there is an exception or not (it is useful when you definitely need to do something, for example, to close a file). \n",
    "    \n",
    "    \n",
    "Look at this code snippet:    \n",
    "</div>\n",
    "\n",
    "```python\n",
    "\n",
    "try:\n",
    "    # Try to do smth here.\n",
    "except Exception as e:\n",
    "    # Handle an instance of SomeException.\n",
    "    # So we deal with the expected error.\n",
    "else:\n",
    "    # Do smth if there is no exception.\n",
    "finally:\n",
    "    # Do something no matter what.\n",
    "    \n",
    "```"
   ]
  },
  {
   "cell_type": "markdown",
   "metadata": {},
   "source": [
    "### Conclusion"
   ]
  },
  {
   "cell_type": "markdown",
   "metadata": {},
   "source": [
    "We see we have some columns with missing values. In addition, we see we'll need to change some types: 'model year' and 'cylinders' should obviously be an int, and 'is_4wd' should be boolean."
   ]
  },
  {
   "cell_type": "markdown",
   "metadata": {},
   "source": [
    "<div class=\"alert alert-success\" style=\"border-radius: 15px; box-shadow: 4px 4px 4px; border: 1px solid \">\n",
    "<b> Reviewer's comment</b>\n",
    "    \n",
    "Yes, we have some missing values here. But it's ok. We can handle them. By the way, it is much better to see the percentage of missing values. For this purpose you can use the code below:\n",
    "</div>\n"
   ]
  },
  {
   "cell_type": "code",
   "execution_count": 9,
   "metadata": {},
   "outputs": [
    {
     "data": {
      "text/plain": [
       "price           0.000000\n",
       "model_year      0.070238\n",
       "model           0.000000\n",
       "condition       0.000000\n",
       "cylinders       0.102086\n",
       "fuel            0.000000\n",
       "odometer        0.153168\n",
       "transmission    0.000000\n",
       "type            0.000000\n",
       "paint_color     0.179854\n",
       "is_4wd          0.503697\n",
       "date_posted     0.000000\n",
       "days_listed     0.000000\n",
       "dtype: float64"
      ]
     },
     "execution_count": 9,
     "metadata": {},
     "output_type": "execute_result"
    }
   ],
   "source": [
    "# REVIEWER'S CODE\n",
    "\n",
    "vehicle_board.isna().mean()"
   ]
  },
  {
   "cell_type": "code",
   "execution_count": 10,
   "metadata": {},
   "outputs": [
    {
     "data": {
      "text/html": [
       "<style  type=\"text/css\" >\n",
       "#T_acb31_row0_col0,#T_acb31_row2_col0,#T_acb31_row3_col0,#T_acb31_row5_col0,#T_acb31_row7_col0,#T_acb31_row8_col0,#T_acb31_row11_col0,#T_acb31_row12_col0{\n",
       "            background-color:  #3b4cc0;\n",
       "            color:  #f1f1f1;\n",
       "        }#T_acb31_row1_col0{\n",
       "            background-color:  #6687ed;\n",
       "            color:  #000000;\n",
       "        }#T_acb31_row4_col0{\n",
       "            background-color:  #7b9ff9;\n",
       "            color:  #000000;\n",
       "        }#T_acb31_row6_col0{\n",
       "            background-color:  #9fbfff;\n",
       "            color:  #000000;\n",
       "        }#T_acb31_row9_col0{\n",
       "            background-color:  #b2ccfb;\n",
       "            color:  #000000;\n",
       "        }#T_acb31_row10_col0{\n",
       "            background-color:  #b40426;\n",
       "            color:  #f1f1f1;\n",
       "        }</style><table id=\"T_acb31_\" ><thead>    <tr>        <th class=\"blank level0\" ></th>        <th class=\"col_heading level0 col0\" >0</th>    </tr></thead><tbody>\n",
       "                <tr>\n",
       "                        <th id=\"T_acb31_level0_row0\" class=\"row_heading level0 row0\" >price</th>\n",
       "                        <td id=\"T_acb31_row0_col0\" class=\"data row0 col0\" >0.000000</td>\n",
       "            </tr>\n",
       "            <tr>\n",
       "                        <th id=\"T_acb31_level0_row1\" class=\"row_heading level0 row1\" >model_year</th>\n",
       "                        <td id=\"T_acb31_row1_col0\" class=\"data row1 col0\" >7.020000</td>\n",
       "            </tr>\n",
       "            <tr>\n",
       "                        <th id=\"T_acb31_level0_row2\" class=\"row_heading level0 row2\" >model</th>\n",
       "                        <td id=\"T_acb31_row2_col0\" class=\"data row2 col0\" >0.000000</td>\n",
       "            </tr>\n",
       "            <tr>\n",
       "                        <th id=\"T_acb31_level0_row3\" class=\"row_heading level0 row3\" >condition</th>\n",
       "                        <td id=\"T_acb31_row3_col0\" class=\"data row3 col0\" >0.000000</td>\n",
       "            </tr>\n",
       "            <tr>\n",
       "                        <th id=\"T_acb31_level0_row4\" class=\"row_heading level0 row4\" >cylinders</th>\n",
       "                        <td id=\"T_acb31_row4_col0\" class=\"data row4 col0\" >10.210000</td>\n",
       "            </tr>\n",
       "            <tr>\n",
       "                        <th id=\"T_acb31_level0_row5\" class=\"row_heading level0 row5\" >fuel</th>\n",
       "                        <td id=\"T_acb31_row5_col0\" class=\"data row5 col0\" >0.000000</td>\n",
       "            </tr>\n",
       "            <tr>\n",
       "                        <th id=\"T_acb31_level0_row6\" class=\"row_heading level0 row6\" >odometer</th>\n",
       "                        <td id=\"T_acb31_row6_col0\" class=\"data row6 col0\" >15.320000</td>\n",
       "            </tr>\n",
       "            <tr>\n",
       "                        <th id=\"T_acb31_level0_row7\" class=\"row_heading level0 row7\" >transmission</th>\n",
       "                        <td id=\"T_acb31_row7_col0\" class=\"data row7 col0\" >0.000000</td>\n",
       "            </tr>\n",
       "            <tr>\n",
       "                        <th id=\"T_acb31_level0_row8\" class=\"row_heading level0 row8\" >type</th>\n",
       "                        <td id=\"T_acb31_row8_col0\" class=\"data row8 col0\" >0.000000</td>\n",
       "            </tr>\n",
       "            <tr>\n",
       "                        <th id=\"T_acb31_level0_row9\" class=\"row_heading level0 row9\" >paint_color</th>\n",
       "                        <td id=\"T_acb31_row9_col0\" class=\"data row9 col0\" >17.990000</td>\n",
       "            </tr>\n",
       "            <tr>\n",
       "                        <th id=\"T_acb31_level0_row10\" class=\"row_heading level0 row10\" >is_4wd</th>\n",
       "                        <td id=\"T_acb31_row10_col0\" class=\"data row10 col0\" >50.370000</td>\n",
       "            </tr>\n",
       "            <tr>\n",
       "                        <th id=\"T_acb31_level0_row11\" class=\"row_heading level0 row11\" >date_posted</th>\n",
       "                        <td id=\"T_acb31_row11_col0\" class=\"data row11 col0\" >0.000000</td>\n",
       "            </tr>\n",
       "            <tr>\n",
       "                        <th id=\"T_acb31_level0_row12\" class=\"row_heading level0 row12\" >days_listed</th>\n",
       "                        <td id=\"T_acb31_row12_col0\" class=\"data row12 col0\" >0.000000</td>\n",
       "            </tr>\n",
       "    </tbody></table>"
      ],
      "text/plain": [
       "<pandas.io.formats.style.Styler at 0x1b917310820>"
      ]
     },
     "execution_count": 10,
     "metadata": {},
     "output_type": "execute_result"
    }
   ],
   "source": [
    "# REVIEWER'S CODE\n",
    "\n",
    "pd.DataFrame(vehicle_board.isna().mean().round(4)*100).style.background_gradient('coolwarm')"
   ]
  },
  {
   "cell_type": "markdown",
   "metadata": {},
   "source": [
    "## Data preprocessing"
   ]
  },
  {
   "cell_type": "markdown",
   "metadata": {},
   "source": [
    "### Fixing the 'is_4wd' column"
   ]
  },
  {
   "cell_type": "code",
   "execution_count": 11,
   "metadata": {},
   "outputs": [
    {
     "name": "stdout",
     "output_type": "stream",
     "text": [
      "1.0    25572\n",
      "Name: is_4wd, dtype: int64\n",
      "25953\n"
     ]
    }
   ],
   "source": [
    "print(vehicle_board['is_4wd'].value_counts())\n",
    "print(vehicle_board['is_4wd'].isna().sum())"
   ]
  },
  {
   "cell_type": "markdown",
   "metadata": {},
   "source": [
    "the sum of the 1.0's and Nan's is equal to the length of the dataframe. so we have 2 values, Nan and 1.0.\n",
    "it'll be safe to assume those Nan's mean 0, i.e - doesn't have 4WD. So, we'll fill those Nan's with 0:"
   ]
  },
  {
   "cell_type": "code",
   "execution_count": 12,
   "metadata": {},
   "outputs": [],
   "source": [
    "vehicle_board['is_4wd'].fillna(0, inplace=True)"
   ]
  },
  {
   "cell_type": "markdown",
   "metadata": {},
   "source": [
    "Now, we'll change the column's data type to boolean:"
   ]
  },
  {
   "cell_type": "code",
   "execution_count": 13,
   "metadata": {},
   "outputs": [],
   "source": [
    "vehicle_board['is_4wd'] = vehicle_board['is_4wd'].astype(bool)"
   ]
  },
  {
   "cell_type": "markdown",
   "metadata": {},
   "source": [
    "<div class=\"alert alert-success\" style=\"border-radius: 15px; box-shadow: 4px 4px 4px; border: 1px solid \">\n",
    "<b> Reviewer's comment</b>\n",
    "    \n",
    "\n",
    "Yes, it can save some memory. </div>"
   ]
  },
  {
   "cell_type": "markdown",
   "metadata": {},
   "source": [
    "### Fixing the 'cylinders' column"
   ]
  },
  {
   "cell_type": "code",
   "execution_count": 14,
   "metadata": {
    "scrolled": true
   },
   "outputs": [
    {
     "name": "stdout",
     "output_type": "stream",
     "text": [
      "5260\n"
     ]
    }
   ],
   "source": [
    "print(vehicle_board['cylinders'].isna().sum())"
   ]
  },
  {
   "cell_type": "markdown",
   "metadata": {},
   "source": [
    "We have a lot of missing values. we'll fill them according to each model's mean. 'model' is not the only variable that might affect the number of cylinders (price, year..), but im not sure how to fill values as a function of multiple columns so for now i'll suffice in replacing them with the according model's mean:"
   ]
  },
  {
   "cell_type": "code",
   "execution_count": 15,
   "metadata": {},
   "outputs": [
    {
     "name": "stdout",
     "output_type": "stream",
     "text": [
      "0\n"
     ]
    }
   ],
   "source": [
    "vehicle_board['cylinders'] = vehicle_board.groupby('model')['cylinders'].transform(lambda x: x.fillna(x.median()))\n",
    "print(vehicle_board['cylinders'].isna().sum())"
   ]
  },
  {
   "cell_type": "markdown",
   "metadata": {},
   "source": [
    "<div class=\"alert alert-success\" style=\"border-radius: 15px; box-shadow: 4px 4px 4px; border: 1px solid \">\n",
    "<b> Reviewer's comment</b>\n",
    "    \n",
    " \n",
    "Great code!  👍\n",
    "</div>\n",
    "<div class=\"alert alert-warning\" style=\"border-radius: 15px; box-shadow: 4px 4px 4px; border: 1px solid \">\n",
    "<b> Reviewer's comment</b>\n",
    "    \n",
    " \n",
    "There's a connection between cylinders and the model's year. So it would be reasonable to add **model_year** in a groupby method. \n",
    "</div>"
   ]
  },
  {
   "cell_type": "markdown",
   "metadata": {},
   "source": [
    "<div class=\"alert alert-info\">\n",
    "<h2> Student's comment</h2>\n",
    "    \n",
    "i tried to groupby 2 columns and it went weird, so i just kept it:( \n",
    "</div>"
   ]
  },
  {
   "cell_type": "markdown",
   "metadata": {},
   "source": [
    "<div class=\"alert alert-success\" style=\"border-radius: 15px; box-shadow: 4px 4px 4px; border: 1px solid \">\n",
    "<b> Reviewer's comment 2</b>\n",
    "    \n",
    "Just use a list: `groupby(['model', 'model_year'])` 😊\n",
    "</div>"
   ]
  },
  {
   "cell_type": "markdown",
   "metadata": {},
   "source": [
    "now, lets change the column to int type, as no car has half a cylinder:"
   ]
  },
  {
   "cell_type": "code",
   "execution_count": 16,
   "metadata": {},
   "outputs": [],
   "source": [
    "vehicle_board['cylinders'] = vehicle_board['cylinders'].astype('int64')"
   ]
  },
  {
   "cell_type": "markdown",
   "metadata": {},
   "source": [
    "### Fixing the 'model_year' column"
   ]
  },
  {
   "cell_type": "code",
   "execution_count": 17,
   "metadata": {},
   "outputs": [
    {
     "name": "stdout",
     "output_type": "stream",
     "text": [
      "3619\n"
     ]
    }
   ],
   "source": [
    "print(vehicle_board['model_year'].isna().sum())"
   ]
  },
  {
   "cell_type": "markdown",
   "metadata": {},
   "source": [
    "We have a lot of missing values. we'll fill them according to each model's mean:"
   ]
  },
  {
   "cell_type": "markdown",
   "metadata": {},
   "source": [
    "<div class=\"alert alert-warning\" style=\"border-radius: 15px; box-shadow: 4px 4px 4px; border: 1px solid \">\n",
    "<b> Reviewer's comment</b>\n",
    "    \n",
    " \n",
    "Not sure about it. Take a look at **ford f-150**. Min year is 1929 and max is 2019 :)</div>\n"
   ]
  },
  {
   "cell_type": "markdown",
   "metadata": {},
   "source": [
    "<div class=\"alert alert-info\">\n",
    "<h2> Student's comment</h2>\n",
    "\n",
    "so to fill according to model's median?\n",
    "</div>"
   ]
  },
  {
   "cell_type": "markdown",
   "metadata": {},
   "source": [
    "<div class=\"alert alert-success\" style=\"border-radius: 15px; box-shadow: 4px 4px 4px; border: 1px solid \">\n",
    "<b> Reviewer's comment 2</b>\n",
    "    \n",
    "To be honest, I am not sure that we can accurately replace these gaps. I mean, it's ok to take median or mean, but it is not enough accurate. We can add cylinders in groupby method, but I am still not sure about it. Don't forget that you can ignore gaps. \n",
    "</div>"
   ]
  },
  {
   "cell_type": "code",
   "execution_count": 18,
   "metadata": {},
   "outputs": [
    {
     "data": {
      "text/plain": [
       "min    1929.0\n",
       "max    2019.0\n",
       "Name: model_year, dtype: float64"
      ]
     },
     "execution_count": 18,
     "metadata": {},
     "output_type": "execute_result"
    }
   ],
   "source": [
    "# Reviewer's code\n",
    "\n",
    "vehicle_board.query('model==\"ford f-150\"').model_year.describe().loc[['min', 'max']]"
   ]
  },
  {
   "cell_type": "code",
   "execution_count": 19,
   "metadata": {},
   "outputs": [
    {
     "name": "stdout",
     "output_type": "stream",
     "text": [
      "0\n"
     ]
    }
   ],
   "source": [
    "vehicle_board['model_year'] = vehicle_board.groupby('model')['model_year'].transform(lambda x: x.fillna(x.median()))\n",
    "print(vehicle_board['model_year'].isna().sum())"
   ]
  },
  {
   "cell_type": "markdown",
   "metadata": {},
   "source": [
    "now, lets change the column to int type, as a year is an integer"
   ]
  },
  {
   "cell_type": "code",
   "execution_count": 20,
   "metadata": {},
   "outputs": [],
   "source": [
    "vehicle_board['model_year'] = vehicle_board['model_year'].astype('int64')"
   ]
  },
  {
   "cell_type": "markdown",
   "metadata": {},
   "source": [
    "### Fixing the 'paint_color' column"
   ]
  },
  {
   "cell_type": "code",
   "execution_count": 21,
   "metadata": {},
   "outputs": [
    {
     "name": "stdout",
     "output_type": "stream",
     "text": [
      "white     10029\n",
      "black      7692\n",
      "silver     6244\n",
      "grey       5037\n",
      "blue       4475\n",
      "red        4421\n",
      "green      1396\n",
      "brown      1223\n",
      "custom     1153\n",
      "yellow      255\n",
      "orange      231\n",
      "purple      102\n",
      "Name: paint_color, dtype: int64\n"
     ]
    },
    {
     "data": {
      "text/plain": [
       "9267"
      ]
     },
     "execution_count": 21,
     "metadata": {},
     "output_type": "execute_result"
    }
   ],
   "source": [
    "print(vehicle_board['paint_color'].value_counts())\n",
    "vehicle_board['paint_color'].isna().sum()"
   ]
  },
  {
   "cell_type": "markdown",
   "metadata": {},
   "source": [
    "no strange colors besides those that are missing. we'll fill the missing one's with 'unknown', to avoid problems concerning None's later:"
   ]
  },
  {
   "cell_type": "code",
   "execution_count": 22,
   "metadata": {},
   "outputs": [
    {
     "data": {
      "text/plain": [
       "0"
      ]
     },
     "execution_count": 22,
     "metadata": {},
     "output_type": "execute_result"
    }
   ],
   "source": [
    "vehicle_board['paint_color'].fillna('unknown', inplace=True)\n",
    "vehicle_board['paint_color'].isna().sum()"
   ]
  },
  {
   "cell_type": "markdown",
   "metadata": {},
   "source": [
    "### Fixing the 'odometer' column"
   ]
  },
  {
   "cell_type": "markdown",
   "metadata": {},
   "source": [
    "let's fill the odometer's missing values. we dont have a reliable method for replacing them with something else, but we do need them to be filled with numbers, so we can do arithmetics on them later, so we'll replace them with -1. this way it'll be easy to differentiate between the filled and original values in the steps to come"
   ]
  },
  {
   "cell_type": "markdown",
   "metadata": {},
   "source": [
    "<div class=\"alert alert-danger\" style=\"border-radius: 15px; box-shadow: 4px 4px 4px; border: 1px solid \">\n",
    "<b> Reviewer's comment</b>\n",
    "    \n",
    "\n",
    "I suppose, we can say that mileage of a car should be related to its condition. So, we can fill in the **odometer** gaps with the median taken in a grouping by **condition** and **model_year**. If we replaced **model_year** with median, I think we can do the same thing here. What do you think? </div>"
   ]
  },
  {
   "cell_type": "markdown",
   "metadata": {},
   "source": [
    "<div class=\"alert alert-info\">\n",
    "<h2> Student's comment</h2>\n",
    "\n",
    "i grouped by condition and model_year but it didnt fill all the values. didnt research it too much though.\n",
    "so in the end i just grouped by condition\n",
    "</div>"
   ]
  },
  {
   "cell_type": "markdown",
   "metadata": {},
   "source": [
    "<div class=\"alert alert-success\" style=\"border-radius: 15px; box-shadow: 4px 4px 4px; border: 1px solid \">\n",
    "<b> Reviewer's comment 2</b>\n",
    "    \n",
    "It's absolutely normal that groupby can give us some Nan-s as some combinations (condition + model_year) can only consist of rows where there is a gap in the target column (odometer).\n",
    "\n",
    "\n",
    "To group by a condition is also a good solution.</div>"
   ]
  },
  {
   "cell_type": "code",
   "execution_count": 23,
   "metadata": {},
   "outputs": [
    {
     "name": "stdout",
     "output_type": "stream",
     "text": [
      "0\n"
     ]
    }
   ],
   "source": [
    "#vehicle_board['odometer'].fillna(-1, inplace=True)\n",
    "\n",
    "vehicle_board['odometer'] = vehicle_board.groupby(['condition'])['odometer'].transform(lambda x: x.fillna(x.median()))\n",
    "\n",
    "print(vehicle_board['odometer'].isna().sum())\n"
   ]
  },
  {
   "cell_type": "markdown",
   "metadata": {},
   "source": [
    "### Conclusion"
   ]
  },
  {
   "cell_type": "markdown",
   "metadata": {},
   "source": [
    "we've filled all of the table's missing values, and converted some data types - now is_4wd is bool, and model_year and cylinders are int's."
   ]
  },
  {
   "cell_type": "markdown",
   "metadata": {},
   "source": [
    "## Make calculations and add them to the table"
   ]
  },
  {
   "cell_type": "code",
   "execution_count": 24,
   "metadata": {},
   "outputs": [],
   "source": [
    "vehicle_board['date_posted'] = pd.to_datetime(vehicle_board['date_posted'], format='%Y-%m-%d')\n",
    "vehicle_board['date_posted_new'] = vehicle_board['date_posted'].dt.day_name() + ', ' + vehicle_board['date_posted'].dt.month_name() + ', ' + vehicle_board['date_posted'].dt.year.astype(str)\n",
    "\n",
    "vehicle_board['age_when_added'] =  vehicle_board['date_posted'].dt.year - vehicle_board['model_year'] + ((vehicle_board['date_posted'].dt.month - 1) / 12) + (vehicle_board['date_posted'].dt.day / 365)\n",
    "#mpy - miles per year\n",
    "vehicle_board['mpy'] = vehicle_board['odometer'] / vehicle_board['age_when_added']\n",
    "#substituting the negative values to unknown, as the odometer at those rows is unknown\n",
    "vehicle_board.loc[vehicle_board['mpy'] < 0, 'mpy'] = 'unknown'"
   ]
  },
  {
   "cell_type": "markdown",
   "metadata": {},
   "source": [
    "<div class=\"alert alert-success\" style=\"border-radius: 15px; box-shadow: 4px 4px 4px; border: 1px solid \">\n",
    "<b> Reviewer's comment</b>\n",
    "    \n",
    "You can use **parse_dates**: `parse_dates=['date_posted']` when reading data. Pandas will automatically convert this list of columns to datetime. </div>"
   ]
  },
  {
   "cell_type": "markdown",
   "metadata": {},
   "source": [
    "Let's categorise the 'condition' column:"
   ]
  },
  {
   "cell_type": "markdown",
   "metadata": {},
   "source": [
    "<div class=\"alert alert-success\" style=\"border-radius: 15px; box-shadow: 4px 4px 4px; border: 1px solid \">\n",
    "<b> Reviewer's comment</b>\n",
    "    \n",
    "There're several ways of doing it: \n",
    "\n",
    "</div>\n",
    "\n",
    "```python\n",
    "\n",
    "for i, cond in enumerate(['salvage', 'fair', 'good', 'excellent', 'like new', 'new']):\n",
    "    vehicle_board.loc[vehicle_board['condition'] == cond, 'condition'] = i\n",
    "    \n",
    "```\n",
    "\n",
    "<div class=\"alert alert-success\" style=\"border-radius: 15px; box-shadow: 4px 4px 4px; border: 1px solid \">\n",
    "<b> Reviewer's comment</b>\n",
    "    \n",
    "Data can also be replaced by dectionaries: \n",
    "\n",
    "</div>"
   ]
  },
  {
   "cell_type": "code",
   "execution_count": 25,
   "metadata": {},
   "outputs": [
    {
     "data": {
      "text/plain": [
       "{'condition': {'salvage': 0,\n",
       "  'fair': 1,\n",
       "  'good': 2,\n",
       "  'excellent': 3,\n",
       "  'like new': 4,\n",
       "  'new': 5}}"
      ]
     },
     "execution_count": 25,
     "metadata": {},
     "output_type": "execute_result"
    }
   ],
   "source": [
    "# Reviewer's code\n",
    "\n",
    "replace_dict = {'condition': {'salvage': 0, 'fair': 1, 'good': 2, 'excellent': 3, 'like new': 4, 'new': 5}}\n",
    "replace_dict"
   ]
  },
  {
   "cell_type": "code",
   "execution_count": 26,
   "metadata": {},
   "outputs": [
    {
     "data": {
      "text/plain": [
       "{'condition': {'excellent': 1,\n",
       "  'fair': 2,\n",
       "  'good': 3,\n",
       "  'like new': 4,\n",
       "  'new': 5,\n",
       "  'salvage': 6}}"
      ]
     },
     "execution_count": 26,
     "metadata": {},
     "output_type": "execute_result"
    }
   ],
   "source": [
    "# Reviewer's code\n",
    "\n",
    "# Second way:\n",
    "labels = vehicle_board['condition'].astype('category').cat.categories.tolist()\n",
    "replace_dict_2 = {'condition' : {k: v for k,v in zip(labels,list(range(1,len(labels)+1)))}}\n",
    "\n",
    "replace_dict_2"
   ]
  },
  {
   "cell_type": "markdown",
   "metadata": {},
   "source": [
    "<div class=\"alert alert-success\" style=\"border-radius: 15px; box-shadow: 4px 4px 4px; border: 1px solid \">\n",
    "<b> Reviewer's comment</b>\n",
    "    \n",
    "Then replace them:\n",
    "</div>"
   ]
  },
  {
   "cell_type": "code",
   "execution_count": 27,
   "metadata": {},
   "outputs": [
    {
     "data": {
      "text/plain": [
       "0        2\n",
       "1        2\n",
       "2        4\n",
       "3        1\n",
       "4        3\n",
       "        ..\n",
       "51520    4\n",
       "51521    0\n",
       "51522    3\n",
       "51523    2\n",
       "51524    2\n",
       "Name: condition, Length: 51525, dtype: int64"
      ]
     },
     "execution_count": 27,
     "metadata": {},
     "output_type": "execute_result"
    }
   ],
   "source": [
    "# Reviewer's code\n",
    "\n",
    "df2 = vehicle_board.copy()\n",
    "df2.replace(replace_dict, inplace=True) # or replace_dict_2\n",
    "\n",
    "df2.condition"
   ]
  },
  {
   "cell_type": "code",
   "execution_count": 28,
   "metadata": {},
   "outputs": [],
   "source": [
    "def condition_categoriser(condition):\n",
    "    if condition == 'new':\n",
    "        return 5\n",
    "    if condition == 'like new':\n",
    "        return 4\n",
    "    if condition == 'excellent':\n",
    "        return 3\n",
    "    if condition == 'good':\n",
    "        return 2\n",
    "    if condition == 'fair':\n",
    "        return 1\n",
    "    else:\n",
    "        return 0\n",
    "vehicle_board['condition'] = vehicle_board['condition'].apply(condition_categoriser)"
   ]
  },
  {
   "cell_type": "markdown",
   "metadata": {},
   "source": [
    "### looking for duplicates and hiding None's"
   ]
  },
  {
   "cell_type": "code",
   "execution_count": 29,
   "metadata": {},
   "outputs": [
    {
     "name": "stdout",
     "output_type": "stream",
     "text": [
      "0\n"
     ]
    },
    {
     "data": {
      "text/plain": [
       "[0, 0, 0, 0, 0, 0, 0, 0, 0, 0, 0, 0, 0, 0, 0, 0]"
      ]
     },
     "execution_count": 29,
     "metadata": {},
     "output_type": "execute_result"
    }
   ],
   "source": [
    "print(vehicle_board.duplicated().sum())\n",
    "columns = vehicle_board.columns\n",
    "lst = []\n",
    "for column in columns:\n",
    "    tmp = vehicle_board.loc[vehicle_board[column] == 'None',column].count()\n",
    "    lst.append(tmp)\n",
    "lst"
   ]
  },
  {
   "cell_type": "markdown",
   "metadata": {},
   "source": [
    "Its cool"
   ]
  },
  {
   "cell_type": "markdown",
   "metadata": {},
   "source": [
    "<div class=\"alert alert-success\" style=\"border-radius: 15px; box-shadow: 4px 4px 4px; border: 1px solid \">\n",
    "<b> Reviewer's comment</b>\n",
    "    \n",
    "\n",
    "By the way, warnings can be ignored:\n",
    "</div>\n",
    "\n",
    "```python\n",
    "\n",
    "import warnings\n",
    "\n",
    "warnings.filterwarnings('ignore')\n",
    "```\n"
   ]
  },
  {
   "cell_type": "markdown",
   "metadata": {},
   "source": [
    "### conclusion"
   ]
  },
  {
   "cell_type": "markdown",
   "metadata": {},
   "source": [
    "we've created 3 more columns as requested and looked for duplicates and hiding None's for no reason.."
   ]
  },
  {
   "cell_type": "markdown",
   "metadata": {},
   "source": [
    "## Carry out exploratory data analysis"
   ]
  },
  {
   "cell_type": "markdown",
   "metadata": {},
   "source": [
    "### Exploring the price column"
   ]
  },
  {
   "cell_type": "code",
   "execution_count": 30,
   "metadata": {},
   "outputs": [
    {
     "data": {
      "text/plain": [
       "count     51525.000000\n",
       "mean      12132.464920\n",
       "std       10040.803015\n",
       "min           1.000000\n",
       "25%        5000.000000\n",
       "50%        9000.000000\n",
       "75%       16839.000000\n",
       "max      375000.000000\n",
       "Name: price, dtype: float64"
      ]
     },
     "execution_count": 30,
     "metadata": {},
     "output_type": "execute_result"
    },
    {
     "data": {
      "image/png": "[encoded data removed]",
      "text/plain": [
       "<Figure size 432x288 with 1 Axes>"
      ]
     },
     "metadata": {
      "needs_background": "light"
     },
     "output_type": "display_data"
    }
   ],
   "source": [
    "h = vehicle_board.hist('price', bins=100, range=(0,400000))\n",
    "\n",
    "for ax in h.flatten():\n",
    "    ax.set_ylabel(\"number of ads\")\n",
    "    \n",
    "vehicle_board.price.describe()"
   ]
  },
  {
   "cell_type": "markdown",
   "metadata": {},
   "source": [
    "<div class=\"alert alert-danger\" style=\"border-radius: 15px; box-shadow: 4px 4px 4px; border: 1px solid \">\n",
    "<b> Reviewer's comment</b>\n",
    "    \n",
    "\n",
    "Please, do not forget to add axis labels on graphs.</div>\n",
    "\n",
    "\n"
   ]
  },
  {
   "cell_type": "markdown",
   "metadata": {},
   "source": [
    "we see a summit at around 10k, that quickly crashes - at 50k and north we have very few cars. usually we expect a gausian bell, but because we're dealing with 2nd hand cars its normal to have a cluster of cars at very low prices. and anyway, <b>Q1-1.5IQR is less than 0</b>, thus the cluster close to 0 is not an outlier.\n",
    "<b>upper limit - Q3 + 1.5IQR = 16839 + 1.5*11839= 34597.5</b>"
   ]
  },
  {
   "cell_type": "markdown",
   "metadata": {},
   "source": [
    "### Exploring the age_when_added column"
   ]
  },
  {
   "cell_type": "code",
   "execution_count": 31,
   "metadata": {},
   "outputs": [
    {
     "data": {
      "text/plain": [
       "count    51525.000000\n",
       "mean         9.025274\n",
       "std          6.104661\n",
       "min          0.002740\n",
       "25%          4.726941\n",
       "50%          8.002740\n",
       "75%         12.210502\n",
       "max        110.516438\n",
       "Name: age_when_added, dtype: float64"
      ]
     },
     "execution_count": 31,
     "metadata": {},
     "output_type": "execute_result"
    },
    {
     "data": {
      "image/png": "[encoded data removed]",
      "text/plain": [
       "<Figure size 432x288 with 1 Axes>"
      ]
     },
     "metadata": {
      "needs_background": "light"
     },
     "output_type": "display_data"
    }
   ],
   "source": [
    "vehicle_board.hist('age_when_added', bins=100, range=(0,111))\n",
    "plt.ylabel('number of ads')\n",
    "vehicle_board.age_when_added.describe()"
   ]
  },
  {
   "cell_type": "markdown",
   "metadata": {},
   "source": [
    "we see a bump around 9 years of age, and another smaller bump around 12 years of age. its surprising to see a steep drop between those 2 bumps. maybe it was 2008 and there was a global economic crisis, so less cars were bought. like before, there's no small outliers as <b>Q1-1.5IQR < 0. Q3+1.5IQR = 23.4</b> and indeed the histogram considerably diminishes north of that value."
   ]
  },
  {
   "cell_type": "markdown",
   "metadata": {},
   "source": [
    "### Exploring the odometer column"
   ]
  },
  {
   "cell_type": "code",
   "execution_count": 32,
   "metadata": {},
   "outputs": [
    {
     "data": {
      "text/plain": [
       "count     51525.000000\n",
       "mean     115199.014508\n",
       "std       60484.863376\n",
       "min           0.000000\n",
       "25%       75668.000000\n",
       "50%      110908.000000\n",
       "75%      147821.000000\n",
       "max      990000.000000\n",
       "Name: odometer, dtype: float64"
      ]
     },
     "execution_count": 32,
     "metadata": {},
     "output_type": "execute_result"
    },
    {
     "data": {
      "image/png": "[encoded data removed]",
      "text/plain": [
       "<Figure size 432x288 with 1 Axes>"
      ]
     },
     "metadata": {
      "needs_background": "light"
     },
     "output_type": "display_data"
    }
   ],
   "source": [
    "vehicle_board.hist('odometer', bins=100, range=(-2,991000))\n",
    "plt.ylabel('number of ads')\n",
    "vehicle_board.odometer.describe()"
   ]
  },
  {
   "cell_type": "markdown",
   "metadata": {},
   "source": [
    "we see a summit at 100k with a shape resembling a gausian bell. the bump at 0 mostly comes from the missing values we filled with -1, with the rest from cars with 0 mileage.<b> above around 312.5085k the values are considered outliers</b>, and the histogram doesn't appear to be affected by this minority."
   ]
  },
  {
   "cell_type": "markdown",
   "metadata": {},
   "source": [
    "### Exploring the cylinders column"
   ]
  },
  {
   "cell_type": "code",
   "execution_count": 33,
   "metadata": {},
   "outputs": [
    {
     "data": {
      "text/plain": [
       "count    51525.000000\n",
       "mean         6.121067\n",
       "std          1.657457\n",
       "min          3.000000\n",
       "25%          4.000000\n",
       "50%          6.000000\n",
       "75%          8.000000\n",
       "max         12.000000\n",
       "Name: cylinders, dtype: float64"
      ]
     },
     "execution_count": 33,
     "metadata": {},
     "output_type": "execute_result"
    },
    {
     "data": {
      "image/png": "[encoded data removed]",
      "text/plain": [
       "<Figure size 432x288 with 1 Axes>"
      ]
     },
     "metadata": {
      "needs_background": "light"
     },
     "output_type": "display_data"
    }
   ],
   "source": [
    "vehicle_board.hist('cylinders', bins=100, range=(0,13))\n",
    "plt.ylabel('number of ads')\n",
    "vehicle_board.cylinders.describe()"
   ]
  },
  {
   "cell_type": "markdown",
   "metadata": {},
   "source": [
    "we see most cars have either 4, 6 or 8 cylinders. no outliers in this histogram, as <b>Q1-1.5IQR < 0 and Q3+1.5IQR > max cylinders value.</b>"
   ]
  },
  {
   "cell_type": "markdown",
   "metadata": {},
   "source": [
    "### Exploring the condition column"
   ]
  },
  {
   "cell_type": "code",
   "execution_count": 34,
   "metadata": {},
   "outputs": [
    {
     "data": {
      "text/plain": [
       "count    51525.000000\n",
       "mean         2.637535\n",
       "std          0.712447\n",
       "min          0.000000\n",
       "25%          2.000000\n",
       "50%          3.000000\n",
       "75%          3.000000\n",
       "max          5.000000\n",
       "Name: condition, dtype: float64"
      ]
     },
     "execution_count": 34,
     "metadata": {},
     "output_type": "execute_result"
    },
    {
     "data": {
      "image/png": "[encoded data removed]",
      "text/plain": [
       "<Figure size 432x288 with 1 Axes>"
      ]
     },
     "metadata": {
      "needs_background": "light"
     },
     "output_type": "display_data"
    }
   ],
   "source": [
    "vehicle_board.hist('condition', bins=100, range=(0,6))\n",
    "plt.ylabel('number of ads')\n",
    "vehicle_board.condition.describe()"
   ]
  },
  {
   "cell_type": "markdown",
   "metadata": {},
   "source": [
    "most cars have an excellent to good condition. in this case, cars with conditions 0 or 5 are considered outliers, as they <b>smaller than 0.5 or greater than 4.5</b>. and actually, we do have very small amount of cars with those outliers conditions, so its cool."
   ]
  },
  {
   "cell_type": "markdown",
   "metadata": {},
   "source": [
    "### conclusion"
   ]
  },
  {
   "cell_type": "markdown",
   "metadata": {},
   "source": [
    "we've looked into 5 columns, made some thought about them and determined their outliers. notable findings are that around 2008 car prices went down. we think its because of the 2008 economic crisis."
   ]
  },
  {
   "cell_type": "markdown",
   "metadata": {},
   "source": [
    "<div class=\"alert alert-success\" style=\"border-radius: 15px; box-shadow: 4px 4px 4px; border: 1px solid \">\n",
    "<b> Reviewer's comment</b>\n",
    "    \n",
    "\n",
    "Good. </div>\n",
    "\n",
    "\n"
   ]
  },
  {
   "cell_type": "markdown",
   "metadata": {},
   "source": [
    "## Filter the data and exploring it"
   ]
  },
  {
   "cell_type": "code",
   "execution_count": 35,
   "metadata": {},
   "outputs": [],
   "source": [
    "#filter the data\n",
    "#filtered_vehicle_board = vehicle_board.query('(price < 34597.5) & (age_when_added < 23.4) & (odometer < 312508.5) & (odometer >= 0) & (condition > 0.5) & (condition < 4.5)')\n",
    "#filtered_vehicle_board = vehicle_board.query('(price < 34597.5) & (age_when_added < 23.4) & (odometer < 312508.5) & (odometer >= 0)')\n",
    "filtered_vehicle_board = vehicle_board.query('(price > 100) & (price < 34597.5) & (age_when_added < 23.4) & (odometer < 312508.5) & (odometer >= 0)')"
   ]
  },
  {
   "cell_type": "markdown",
   "metadata": {},
   "source": [
    "<div class=\"alert alert-success\" style=\"border-radius: 15px; box-shadow: 4px 4px 4px; border: 1px solid \">\n",
    "<b> Reviewer's comment</b>\n",
    "    \n",
    "IQR is often used to determine outliers. Please, keep in mind that not everything outside the whiskers is outlier. Likewise, not everything within whiskers is a normal data (like $1 price). Because the whisker goes either to the maximum (minimum) or to 1.5 times the length of the box. The concentration of circles after the whiskers can be very high. Cutting off the whiskers, we can sometimes lose important information, as our sample can be really biased. \n",
    "\n",
    "\n",
    "</div>\n",
    "\n",
    "<div class=\"alert alert-warning\" style=\"border-radius: 15px; box-shadow: 4px 4px 4px; border: 1px solid \">\n",
    "<b> Reviewer's comment</b>\n",
    "    \n",
    "We should always check ourselves:</div>"
   ]
  },
  {
   "cell_type": "code",
   "execution_count": 36,
   "metadata": {},
   "outputs": [
    {
     "data": {
      "text/html": [
       "<div>\n",
       "<style scoped>\n",
       "    .dataframe tbody tr th:only-of-type {\n",
       "        vertical-align: middle;\n",
       "    }\n",
       "\n",
       "    .dataframe tbody tr th {\n",
       "        vertical-align: top;\n",
       "    }\n",
       "\n",
       "    .dataframe thead th {\n",
       "        text-align: right;\n",
       "    }\n",
       "</style>\n",
       "<table border=\"1\" class=\"dataframe\">\n",
       "  <thead>\n",
       "    <tr style=\"text-align: right;\">\n",
       "      <th></th>\n",
       "      <th>price</th>\n",
       "      <th>age_when_added</th>\n",
       "      <th>odometer</th>\n",
       "      <th>condition</th>\n",
       "    </tr>\n",
       "  </thead>\n",
       "  <tbody>\n",
       "    <tr>\n",
       "      <th>min</th>\n",
       "      <td>105.0</td>\n",
       "      <td>0.002740</td>\n",
       "      <td>0.0</td>\n",
       "      <td>0.0</td>\n",
       "    </tr>\n",
       "    <tr>\n",
       "      <th>max</th>\n",
       "      <td>34595.0</td>\n",
       "      <td>23.399087</td>\n",
       "      <td>312000.0</td>\n",
       "      <td>5.0</td>\n",
       "    </tr>\n",
       "  </tbody>\n",
       "</table>\n",
       "</div>"
      ],
      "text/plain": [
       "       price  age_when_added  odometer  condition\n",
       "min    105.0        0.002740       0.0        0.0\n",
       "max  34595.0       23.399087  312000.0        5.0"
      ]
     },
     "execution_count": 36,
     "metadata": {},
     "output_type": "execute_result"
    }
   ],
   "source": [
    "# Reviewer's code\n",
    "\n",
    "filtered_vehicle_board[['price', 'age_when_added', 'odometer', 'condition']].describe().loc[['min', 'max']]"
   ]
  },
  {
   "cell_type": "markdown",
   "metadata": {},
   "source": [
    "<div class=\"alert alert-danger\" style=\"border-radius: 15px; box-shadow: 4px 4px 4px; border: 1px solid \">\n",
    "<b> Reviewer's comment</b>\n",
    "    \n",
    "First, minimum price is 1. Second, I don't think we should drop the cars in poor and excellent condition, as our goal is to compare them. Can **new** be an outlier? I don't think so. I suppose we can keep all condition values. What do you think? </div>"
   ]
  },
  {
   "cell_type": "markdown",
   "metadata": {},
   "source": [
    "<div class=\"alert alert-info\">\n",
    "<h2> Student's comment</h2>\n",
    "\n",
    "of course youre right. those numbers for condition are artficial so no point in finding outliers in them.\n",
    "</div>"
   ]
  },
  {
   "cell_type": "markdown",
   "metadata": {},
   "source": [
    "<div class=\"alert alert-danger\" style=\"border-radius: 15px; box-shadow: 4px 4px 4px; border: 1px solid \">\n",
    "<b> Reviewer's comment 2</b>\n",
    "    \n",
    "$1 cars are still in our dataframe :)</div>"
   ]
  },
  {
   "cell_type": "markdown",
   "metadata": {},
   "source": [
    "<div class=\"alert alert-info\">\n",
    "<h2> Student's comment 2</h2>\n",
    "\n",
    "hope 100$ is a good border. if someone just wants to throw his car or to free up space in his garage he will prefer to sell it cheap than to have the mess of throwing it to the garbage himself (maybe you need to pay for that?).\n",
    "so i think you should filter those rows with extremely cheap price only after you made sure its bad data - for example the cars that get sold for so cheap are new, low mileage etc.. otherwise you cant be sure the ads are not authentic\n",
    "</div>"
   ]
  },
  {
   "cell_type": "markdown",
   "metadata": {},
   "source": [
    "<div class=\"alert alert-success\" style=\"border-radius: 15px; box-shadow: 4px 4px 4px; border: 1px solid \">\n",
    "<h2> Reviewer's comment 3</h2>\n",
    "    \n",
    "Yes, I think it can be true.\n",
    "</div>"
   ]
  },
  {
   "cell_type": "markdown",
   "metadata": {},
   "source": [
    "### Exploring filtered price column"
   ]
  },
  {
   "cell_type": "code",
   "execution_count": 37,
   "metadata": {},
   "outputs": [
    {
     "data": {
      "text/plain": [
       "count    47842.000000\n",
       "mean     11400.689436\n",
       "std       7742.323315\n",
       "min        105.000000\n",
       "25%       5289.250000\n",
       "50%       8999.000000\n",
       "75%      15995.000000\n",
       "max      34595.000000\n",
       "Name: price, dtype: float64"
      ]
     },
     "execution_count": 37,
     "metadata": {},
     "output_type": "execute_result"
    },
    {
     "data": {
      "image/png": "[encoded data removed]",
      "text/plain": [
       "<Figure size 432x288 with 1 Axes>"
      ]
     },
     "metadata": {
      "needs_background": "light"
     },
     "output_type": "display_data"
    }
   ],
   "source": [
    "filtered_vehicle_board.hist('price', bins=100, range=(0,34600))\n",
    "plt.ylabel('number of ads')\n",
    "filtered_vehicle_board.price.describe()"
   ]
  },
  {
   "cell_type": "markdown",
   "metadata": {},
   "source": [
    "### conclusion"
   ]
  },
  {
   "cell_type": "markdown",
   "metadata": {},
   "source": [
    "now we can see the peaks much better, as well as the gaps between them. we see the median is 8999, almost the same as before, so not such a big difference between this histogram and the earlier one (when histing the earlier one on the same range).\n",
    "\n",
    "#we do note there's a local peak at 0 - its a 2nd hand board, so people sell all sorts of cars, so it makes sense. #people prefer to sell their cars for free than to let it take space at their house."
   ]
  },
  {
   "cell_type": "markdown",
   "metadata": {},
   "source": [
    "### Exploring filtered age_when_added column"
   ]
  },
  {
   "cell_type": "code",
   "execution_count": 38,
   "metadata": {},
   "outputs": [
    {
     "data": {
      "text/plain": [
       "count    47842.000000\n",
       "mean         8.832088\n",
       "std          4.940288\n",
       "min          0.002740\n",
       "25%          5.035616\n",
       "50%          8.124429\n",
       "75%         12.102511\n",
       "max         23.399087\n",
       "Name: age_when_added, dtype: float64"
      ]
     },
     "execution_count": 38,
     "metadata": {},
     "output_type": "execute_result"
    },
    {
     "data": {
      "image/png": "[encoded data removed]",
      "text/plain": [
       "<Figure size 432x288 with 1 Axes>"
      ]
     },
     "metadata": {
      "needs_background": "light"
     },
     "output_type": "display_data"
    }
   ],
   "source": [
    "filtered_vehicle_board.hist('age_when_added', bins=100, range=(0,24))\n",
    "plt.ylabel('number of ads')\n",
    "filtered_vehicle_board.age_when_added.describe()"
   ]
  },
  {
   "cell_type": "markdown",
   "metadata": {},
   "source": [
    "### conclusion"
   ]
  },
  {
   "cell_type": "markdown",
   "metadata": {},
   "source": [
    "we see again 2 peaks around 7.5 and 12, and now the drop between is wider, so it looks a less sudden drop: a decrease thet went on for around 2-3 years before reaching its lowest point at 10 years of age. we also note the extreme jump from that low value to the next peak - maybe people were keen to buy a new car after years of economic depression. or maybe the car manufacturers started to use lesser quality materials for their cars in response to economic depression.\n",
    "it looks strange the median went higher after we cut higher values - but we should remember we cropped data from not only this column."
   ]
  },
  {
   "cell_type": "markdown",
   "metadata": {},
   "source": [
    "### Exploring filtered odometer column"
   ]
  },
  {
   "cell_type": "code",
   "execution_count": 39,
   "metadata": {},
   "outputs": [
    {
     "data": {
      "text/plain": [
       "count     47842.000000\n",
       "mean     116909.101407\n",
       "std       55649.606368\n",
       "min           0.000000\n",
       "25%       81226.250000\n",
       "50%      114000.000000\n",
       "75%      149014.000000\n",
       "max      312000.000000\n",
       "Name: odometer, dtype: float64"
      ]
     },
     "execution_count": 39,
     "metadata": {},
     "output_type": "execute_result"
    },
    {
     "data": {
      "image/png": "[encoded data removed]",
      "text/plain": [
       "<Figure size 432x288 with 1 Axes>"
      ]
     },
     "metadata": {
      "needs_background": "light"
     },
     "output_type": "display_data"
    }
   ],
   "source": [
    "filtered_vehicle_board.hist('odometer', bins=100, range=(-1,313000))\n",
    "plt.ylabel('number of ads')\n",
    "filtered_vehicle_board.odometer.describe()"
   ]
  },
  {
   "cell_type": "markdown",
   "metadata": {},
   "source": [
    "### conclusion"
   ]
  },
  {
   "cell_type": "markdown",
   "metadata": {},
   "source": [
    "now, after zooming in, its easy to see the popularity of cars with around 120k milage at this 2nd hand board. it make sense, as cars with this milage have been used by their owners for a while, and its time for them to renew their cars. we see another peak at 0 - its odd so many people regret buying cars seconds after they bought it. we'll guess its leasing companies that bought more cars than they needed in the end.\n",
    "\n",
    "now after cleaning the cheaper than 100$ cars, we see two strange peaks between 100k to 150k. strange so many cars have the exact same mileage."
   ]
  },
  {
   "cell_type": "code",
   "execution_count": 40,
   "metadata": {},
   "outputs": [
    {
     "data": {
      "text/plain": [
       "count    47842.000000\n",
       "mean         6.030893\n",
       "std          1.635374\n",
       "min          3.000000\n",
       "25%          4.000000\n",
       "50%          6.000000\n",
       "75%          8.000000\n",
       "max         12.000000\n",
       "Name: cylinders, dtype: float64"
      ]
     },
     "execution_count": 40,
     "metadata": {},
     "output_type": "execute_result"
    },
    {
     "data": {
      "image/png": "[encoded data removed]",
      "text/plain": [
       "<Figure size 432x288 with 1 Axes>"
      ]
     },
     "metadata": {
      "needs_background": "light"
     },
     "output_type": "display_data"
    }
   ],
   "source": [
    "filtered_vehicle_board.hist('cylinders', bins=100, range=(0,13))\n",
    "plt.ylabel('number of ads')\n",
    "filtered_vehicle_board.cylinders.describe()"
   ]
  },
  {
   "cell_type": "markdown",
   "metadata": {},
   "source": [
    "### conclusion"
   ]
  },
  {
   "cell_type": "markdown",
   "metadata": {},
   "source": [
    "earlier 8 cylinders were at top, while now 6 cylinders take the lead, and thats when the cylinder column had no outliers. we should remember we cropped 5 columns, not just the cylinder column.\n",
    "besides that, both histograms look the same, as the difference between 6 to 8 cylinders is minor. it make sense, as this are the popular cylinder quantities anyway."
   ]
  },
  {
   "cell_type": "markdown",
   "metadata": {},
   "source": [
    "### Exploring the filtered condition column"
   ]
  },
  {
   "cell_type": "code",
   "execution_count": 41,
   "metadata": {
    "scrolled": false
   },
   "outputs": [
    {
     "data": {
      "text/plain": [
       "count    47842.000000\n",
       "mean         2.624953\n",
       "std          0.702585\n",
       "min          0.000000\n",
       "25%          2.000000\n",
       "50%          3.000000\n",
       "75%          3.000000\n",
       "max          5.000000\n",
       "Name: condition, dtype: float64"
      ]
     },
     "execution_count": 41,
     "metadata": {},
     "output_type": "execute_result"
    },
    {
     "data": {
      "image/png": "[encoded data removed]",
      "text/plain": [
       "<Figure size 432x288 with 1 Axes>"
      ]
     },
     "metadata": {
      "needs_background": "light"
     },
     "output_type": "display_data"
    }
   ],
   "source": [
    "filtered_vehicle_board.hist('condition', bins=100, range=(0,6))\n",
    "plt.ylabel('number of ads')\n",
    "filtered_vehicle_board.condition.describe()"
   ]
  },
  {
   "cell_type": "markdown",
   "metadata": {},
   "source": [
    "### conclusion"
   ]
  },
  {
   "cell_type": "markdown",
   "metadata": {},
   "source": [
    "the mean and median are the same as before. and the histogram is exactly the same as before, just without the outliers.\n",
    "for itself, its not surprising to see most cars were used before thay came to this 2nd hand board. what is surprising is that after we saw so many cars with 0 milage we expected to see a lot of new condition cars as well. we don't really have an explanation, only that people might say their car is new or as_new only if it just came out of the factory and with the nylons still on."
   ]
  },
  {
   "cell_type": "markdown",
   "metadata": {},
   "source": [
    "## conclusions"
   ]
  },
  {
   "cell_type": "markdown",
   "metadata": {},
   "source": [
    "price - we noticed a lot of cars are sold for virtually free, and related that to people's desire to get rid of stuff they don't need.\n",
    "\n",
    "age - like before, we notice something happened around 2008. but now we also see that after the economic crisis, the market almost suddenly came to the standards of the days before the crisis.\n",
    "\n",
    "mileage - we see there's a trend of selling cars with 0 mileage. we suspect its leasing companies who got stuck with spare cars.\n",
    "\n",
    "cylinders - obviously, the vast majority of cars on our board have either 4,6 or 8 cylinders.\n",
    "\n",
    "condition - most cars on our board are in excellent/good condition. like new and fair are much less common."
   ]
  },
  {
   "cell_type": "markdown",
   "metadata": {},
   "source": [
    "<div class=\"alert alert-success\" style=\"border-radius: 15px; box-shadow: 4px 4px 4px; border: 1px solid \">\n",
    "<b> Reviewer's comment</b>\n",
    "    \n",
    "\n",
    "Good conclusion 👍</div>\n",
    "\n"
   ]
  },
  {
   "cell_type": "markdown",
   "metadata": {},
   "source": [
    "## looking into days_listed"
   ]
  },
  {
   "cell_type": "code",
   "execution_count": 42,
   "metadata": {},
   "outputs": [
    {
     "data": {
      "image/png": "[encoded data removed]",
      "text/plain": [
       "<Figure size 432x288 with 1 Axes>"
      ]
     },
     "metadata": {
      "needs_background": "light"
     },
     "output_type": "display_data"
    },
    {
     "data": {
      "text/plain": [
       "count    47842.000000\n",
       "mean        39.545817\n",
       "std         28.211512\n",
       "min          0.000000\n",
       "25%         19.000000\n",
       "50%         33.000000\n",
       "75%         53.000000\n",
       "max        271.000000\n",
       "Name: days_listed, dtype: float64"
      ]
     },
     "execution_count": 42,
     "metadata": {},
     "output_type": "execute_result"
    }
   ],
   "source": [
    "filtered_vehicle_board.hist('days_listed', bins=100, range=(0,272))\n",
    "plt.ylabel('number of ads')\n",
    "plt.show()\n",
    "filtered_vehicle_board.days_listed.describe()"
   ]
  },
  {
   "cell_type": "markdown",
   "metadata": {},
   "source": [
    "### conclusion"
   ]
  },
  {
   "cell_type": "markdown",
   "metadata": {},
   "source": [
    "we see the median is 33 days, and the mean is 39 days. the upper limit for outliers is Q3+1.5IQR = 53 + 51=104, and indeed there are'nt many ads beyond that border. no bottom outliers, but if we should mention one, will go with Q1/2 as a bottom border.\n",
    "so, the typical lifetime of an ad is between Q1 to Q3, i.e between 19 to 53 days. ads that been on the board for more than 104 days are considered to be there for a very long time, while cars that got sold under 10 days are considered to be removed quickly."
   ]
  },
  {
   "cell_type": "markdown",
   "metadata": {},
   "source": [
    "## Number of ads by type"
   ]
  },
  {
   "cell_type": "code",
   "execution_count": 43,
   "metadata": {},
   "outputs": [
    {
     "name": "stdout",
     "output_type": "stream",
     "text": [
      "             count          mean\n",
      "             price         price\n",
      "type                            \n",
      "SUV          11693  10665.266997\n",
      "bus             21  18107.428571\n",
      "convertible    326  13578.291411\n",
      "coupe         1933  14070.243145\n",
      "hatchback     1004   6874.542829\n",
      "mini-van      1152   8026.243056\n",
      "offroad        177  14635.802260\n",
      "other          233  10550.695279\n",
      "pickup        6364  14999.556882\n",
      "sedan        11898   7058.429316\n",
      "truck        10944  15473.249726\n",
      "van            569   9060.947276\n",
      "wagon         1528   8892.565445\n"
     ]
    }
   ],
   "source": [
    "type_table = filtered_vehicle_board.pivot_table(index='type', values='price', aggfunc=['count', 'mean'])\n",
    "print(type_table)"
   ]
  },
  {
   "cell_type": "code",
   "execution_count": 44,
   "metadata": {},
   "outputs": [
    {
     "data": {
      "image/png": "[encoded data removed]",
      "text/plain": [
       "<Figure size 432x288 with 1 Axes>"
      ]
     },
     "metadata": {
      "needs_background": "light"
     },
     "output_type": "display_data"
    }
   ],
   "source": [
    "type_table['count'].plot(title='ads by type', kind='bar')\n",
    "plt.ylabel('number of ads')\n",
    "plt.show()"
   ]
  },
  {
   "cell_type": "markdown",
   "metadata": {},
   "source": [
    "<div class=\"alert alert-danger\" style=\"border-radius: 15px; box-shadow: 4px 4px 4px; border: 1px solid \">\n",
    "<b> Reviewer's comment</b>\n",
    "    \n",
    "\n",
    "Please, check out this cell, it doesn't work.</div>\n",
    "\n",
    "\n",
    "<div class=\"alert alert-danger\" style=\"border-radius: 15px; box-shadow: 4px 4px 4px; border: 1px solid \">\n",
    "<b> Reviewer's comment 2</b>\n",
    "    \n",
    "I suppose we use different lib versions.. Please, try to define **ylabel** using **plt**. </div>"
   ]
  },
  {
   "cell_type": "markdown",
   "metadata": {},
   "source": [
    "<div class=\"alert alert-info\">\n",
    "<h2> Student's comment</h2>\n",
    "\n",
    "this cell works for me. i understand its something about the ylabel from the warning, but here on my local theres no problem. so hope itll be ok,maybe i didnt restart the kernel or something\n",
    "</div>"
   ]
  },
  {
   "cell_type": "markdown",
   "metadata": {},
   "source": [
    "<div class=\"alert alert-success\" style=\"border-radius: 15px; box-shadow: 4px 4px 4px; border: 1px solid \">\n",
    "<h2> Reviewer's comment 3</h2>\n",
    "    \n",
    "I completely understand that it works ok on you local machine (on mine too). But here, on server we need to update libs :)\n",
    "</div>"
   ]
  },
  {
   "cell_type": "markdown",
   "metadata": {},
   "source": [
    "### conclusion"
   ]
  },
  {
   "cell_type": "markdown",
   "metadata": {},
   "source": [
    "we see the most popular types are SUV's and Sedan's"
   ]
  },
  {
   "cell_type": "markdown",
   "metadata": {},
   "source": [
    "## Exploring price factors"
   ]
  },
  {
   "cell_type": "markdown",
   "metadata": {},
   "source": [
    "### creating 2 boards for SUV's and Sedan's"
   ]
  },
  {
   "cell_type": "code",
   "execution_count": 45,
   "metadata": {},
   "outputs": [],
   "source": [
    "SUV_board = filtered_vehicle_board[filtered_vehicle_board['type'] == 'SUV']\n",
    "sedan_board = filtered_vehicle_board[filtered_vehicle_board['type'] == 'sedan']"
   ]
  },
  {
   "cell_type": "markdown",
   "metadata": {},
   "source": [
    "### Examining price vs age"
   ]
  },
  {
   "cell_type": "code",
   "execution_count": 46,
   "metadata": {},
   "outputs": [
    {
     "data": {
      "image/png": "[encoded data removed]",
      "text/plain": [
       "<Figure size 432x288 with 1 Axes>"
      ]
     },
     "metadata": {
      "needs_background": "light"
     },
     "output_type": "display_data"
    },
    {
     "data": {
      "image/png": "[encoded data removed]",
      "text/plain": [
       "<Figure size 432x288 with 1 Axes>"
      ]
     },
     "metadata": {
      "needs_background": "light"
     },
     "output_type": "display_data"
    }
   ],
   "source": [
    "SUV_board.plot(x='age_when_added', y='price', kind='scatter', alpha = 0.05, title='SUV')\n",
    "plt.savefig('')\n",
    "sedan_board.plot(x='age_when_added', y='price', kind='scatter', alpha = 0.05, title='sedan')\n",
    "plt.savefig('')"
   ]
  },
  {
   "cell_type": "markdown",
   "metadata": {},
   "source": [
    "<div class=\"alert alert-success\" style=\"border-radius: 15px; box-shadow: 4px 4px 4px; border: 1px solid \">\n",
    "<b> Reviewer's comment</b>\n",
    "    \n",
    "\n",
    "Great idea to compare them.</div>\n",
    "\n"
   ]
  },
  {
   "cell_type": "markdown",
   "metadata": {},
   "source": [
    "### conclusion"
   ]
  },
  {
   "cell_type": "markdown",
   "metadata": {},
   "source": [
    "as expected, in both cases the price diminishes as the car is older. altough, in both cases its pretty surprising to see a cluster of new cars that are sold almost for free. its the filtered data, so no outliers involve in this strange thing. actually i dont know, maybe its cars that are extremely cheap in the first place? doesn't make sense.. maybe it could be a crime organisation that tries to get rid of cash? "
   ]
  },
  {
   "cell_type": "markdown",
   "metadata": {},
   "source": [
    "### Examining price vs mileage"
   ]
  },
  {
   "cell_type": "code",
   "execution_count": 47,
   "metadata": {},
   "outputs": [
    {
     "data": {
      "image/png": "[encoded data removed]",
      "text/plain": [
       "<Figure size 432x288 with 1 Axes>"
      ]
     },
     "metadata": {
      "needs_background": "light"
     },
     "output_type": "display_data"
    },
    {
     "data": {
      "image/png": "[encoded data removed]",
      "text/plain": [
       "<Figure size 432x288 with 1 Axes>"
      ]
     },
     "metadata": {
      "needs_background": "light"
     },
     "output_type": "display_data"
    }
   ],
   "source": [
    "SUV_board.plot(x='odometer', y='price', kind='scatter', alpha = 0.05, title='SUV')\n",
    "plt.savefig('')\n",
    "sedan_board.plot(x='odometer', y='price', kind='scatter', alpha = 0.05, title='sedan')\n",
    "plt.savefig('')"
   ]
  },
  {
   "cell_type": "markdown",
   "metadata": {},
   "source": [
    "### conclusion"
   ]
  },
  {
   "cell_type": "markdown",
   "metadata": {},
   "source": [
    "as expected, price goes down when the mileage grows, in both cases. like before, its surprising to see almost (and entirely) road-free cars sold for almost free, in both cases. we would expect those cheap cars will be with a much a greater mileage."
   ]
  },
  {
   "cell_type": "markdown",
   "metadata": {},
   "source": [
    "<div class=\"alert alert-success\" style=\"border-radius: 15px; box-shadow: 4px 4px 4px; border: 1px solid \">\n",
    "<b> Reviewer's comment</b>\n",
    "    \n",
    "\n",
    "I like your visualization. Another way is to compare medians. We need to create odometer categories to cut down the amount of values. For instance, we can use a qcut method that devides the sample into several equal groups. Let's try:</div>\n"
   ]
  },
  {
   "cell_type": "code",
   "execution_count": 48,
   "metadata": {},
   "outputs": [
    {
     "data": {
      "text/plain": [
       "0          (129000.0, 145000.0]\n",
       "7          (106000.0, 129000.0]\n",
       "8         (95813.143, 106000.0]\n",
       "9        (145000.0, 176359.286]\n",
       "14         (129000.0, 145000.0]\n",
       "                  ...          \n",
       "51495      (129000.0, 145000.0]\n",
       "51496    (176359.286, 310000.0]\n",
       "51500    (145000.0, 176359.286]\n",
       "51502      (106000.0, 129000.0]\n",
       "51516      (106000.0, 129000.0]\n",
       "Name: odometer, Length: 11693, dtype: category\n",
       "Categories (7, interval[float64]): [(-0.001, 66243.0] < (66243.0, 95813.143] < (95813.143, 106000.0] < (106000.0, 129000.0] < (129000.0, 145000.0] < (145000.0, 176359.286] < (176359.286, 310000.0]]"
      ]
     },
     "execution_count": 48,
     "metadata": {},
     "output_type": "execute_result"
    }
   ],
   "source": [
    "# Reviewer's code\n",
    "\n",
    "pd.qcut(SUV_board['odometer'], q=7)"
   ]
  },
  {
   "cell_type": "markdown",
   "metadata": {},
   "source": [
    "<div class=\"alert alert-success\" style=\"border-radius: 15px; box-shadow: 4px 4px 4px; border: 1px solid \">\n",
    "<b> Reviewer's comment </b>\n",
    "    \n",
    "   \n",
    "Ok, we have 7 cat-s that you can see above. Let's give them names:</div>"
   ]
  },
  {
   "cell_type": "code",
   "execution_count": 49,
   "metadata": {},
   "outputs": [
    {
     "data": {
      "text/plain": [
       "0           aboveaverage\n",
       "7                average\n",
       "8           belowaverage\n",
       "9                  a lot\n",
       "14          aboveaverage\n",
       "              ...       \n",
       "51495       aboveaverage\n",
       "51496    more than a lot\n",
       "51500              a lot\n",
       "51502            average\n",
       "51516            average\n",
       "Name: odometer, Length: 11693, dtype: category\n",
       "Categories (7, object): ['less than little' < 'little' < 'belowaverage' < 'average' < 'aboveaverage' < 'a lot' < 'more than a lot']"
      ]
     },
     "execution_count": 49,
     "metadata": {},
     "output_type": "execute_result"
    }
   ],
   "source": [
    "# Reviewer's code\n",
    "\n",
    "pd.qcut(SUV_board['odometer'], 7, ['less than little', 'little', 'below' 'average', 'average', 'above' 'average', 'a lot', 'more than a lot'])"
   ]
  },
  {
   "cell_type": "code",
   "execution_count": 50,
   "metadata": {},
   "outputs": [
    {
     "data": {
      "image/png": "[encoded data removed]",
      "text/plain": [
       "<Figure size 720x576 with 1 Axes>"
      ]
     },
     "metadata": {
      "needs_background": "light"
     },
     "output_type": "display_data"
    }
   ],
   "source": [
    "# Reviewer's code\n",
    "\n",
    "SUV_board.groupby(pd.qcut(SUV_board['odometer'],\n",
    "                         7, \n",
    "                         ['less than little', 'little', 'below' 'average', 'average', 'above' 'average', 'a lot', 'more than a lot']))['price'].median().plot(figsize=(10,8))\n",
    "\n",
    "plt.title('Title')\n",
    "plt.xlabel('Odometer')\n",
    "plt.ylabel('Price')\n",
    "plt.show()"
   ]
  },
  {
   "cell_type": "markdown",
   "metadata": {},
   "source": [
    "<div class=\"alert alert-success\" style=\"border-radius: 15px; box-shadow: 4px 4px 4px; border: 1px solid \">\n",
    "<b> Reviewer's comment</b>\n",
    "    \n",
    "😊</div>"
   ]
  },
  {
   "cell_type": "markdown",
   "metadata": {},
   "source": [
    "### Examining price vs condition"
   ]
  },
  {
   "cell_type": "code",
   "execution_count": 51,
   "metadata": {},
   "outputs": [
    {
     "data": {
      "image/png": "[encoded data removed]",
      "text/plain": [
       "<Figure size 432x288 with 1 Axes>"
      ]
     },
     "metadata": {
      "needs_background": "light"
     },
     "output_type": "display_data"
    },
    {
     "data": {
      "image/png": "[encoded data removed]",
      "text/plain": [
       "<Figure size 432x288 with 1 Axes>"
      ]
     },
     "metadata": {
      "needs_background": "light"
     },
     "output_type": "display_data"
    }
   ],
   "source": [
    "SUV_board.plot(x='condition', y='price', kind='scatter', alpha = 0.01, title='SUV')\n",
    "plt.savefig('')\n",
    "sedan_board.plot(x='condition', y='price', kind='scatter', alpha = 0.01, title='sedan')\n",
    "plt.savefig('')"
   ]
  },
  {
   "cell_type": "markdown",
   "metadata": {},
   "source": [
    "### conclusion"
   ]
  },
  {
   "cell_type": "markdown",
   "metadata": {},
   "source": [
    "as expected, as the condition's better, the price goes up. at least for conditions of types 1,2,3. the 4th condition's surprising - the majority of cars with condition of type 4 are selled for less than the cars with conditions 2 and 3. an explanation could be that if a car is selled in a good shape, it means its problem is not the condition but the car design itself, otherwise it wouldnt go to the market. so theres a chance those 2 and 3 condition cars are much better in the first place.\n",
    "\n",
    "also, prestigous cars tend to be preserved more, because their owners keep them for special days and not for their daily routine. but still, those cars tend to lose their value faster than durable cars (toyota, skoda..). so if we have a big portion of prestigous cars in the 4th condition, and a big portion of durable cars in the 2&3 conditions, it can also help to explain that. especially if besides those prestigous cars, we have a lot of cheap cars with condition of type 4 as well."
   ]
  },
  {
   "cell_type": "markdown",
   "metadata": {},
   "source": [
    "### Examining price vs transmission"
   ]
  },
  {
   "cell_type": "code",
   "execution_count": 52,
   "metadata": {},
   "outputs": [
    {
     "name": "stdout",
     "output_type": "stream",
     "text": [
      "unknown    2088\n",
      "black      2036\n",
      "white      1846\n",
      "silver     1511\n",
      "grey       1133\n",
      "blue        997\n",
      "red         863\n",
      "green       420\n",
      "brown       357\n",
      "custom      277\n",
      "orange       81\n",
      "yellow       45\n",
      "purple       39\n",
      "Name: paint_color, dtype: int64\n",
      "automatic    11143\n",
      "manual         457\n",
      "other           93\n",
      "Name: transmission, dtype: int64\n",
      "unknown    2132\n",
      "silver     2038\n",
      "black      1743\n",
      "grey       1617\n",
      "white      1461\n",
      "blue       1209\n",
      "red         917\n",
      "custom      268\n",
      "brown       253\n",
      "green       203\n",
      "purple       26\n",
      "yellow       22\n",
      "orange        9\n",
      "Name: paint_color, dtype: int64\n",
      "automatic    11247\n",
      "manual         577\n",
      "other           74\n",
      "Name: transmission, dtype: int64\n"
     ]
    }
   ],
   "source": [
    "print(SUV_board.paint_color.value_counts())\n",
    "print(SUV_board.transmission.value_counts())\n",
    "print(sedan_board.paint_color.value_counts())\n",
    "print(sedan_board.transmission.value_counts())"
   ]
  },
  {
   "cell_type": "markdown",
   "metadata": {},
   "source": [
    "### conclusion"
   ]
  },
  {
   "cell_type": "markdown",
   "metadata": {},
   "source": [
    "we see every category in transmission has at least 50 ads, for both type of cars. however thats not the case with the colors: for SUV's, yellow and purple both have less than 50 ads; for Sedan's - purple, yellow and orange have less than 50 ads.\n",
    "\n",
    "we'll unite the SUV's color minorities into one 'generalised' color - yellow/purple.\n",
    "the sedan color minorities can't be handled the same way, as the sum of all minorities is still less than 50. so we'll drop the rows of those sedan color minorities."
   ]
  },
  {
   "cell_type": "code",
   "execution_count": 53,
   "metadata": {},
   "outputs": [
    {
     "name": "stderr",
     "output_type": "stream",
     "text": [
      "C:\\Users\\idanm\\anaconda3\\lib\\site-packages\\pandas\\core\\indexing.py:1720: SettingWithCopyWarning: \n",
      "A value is trying to be set on a copy of a slice from a DataFrame.\n",
      "Try using .loc[row_indexer,col_indexer] = value instead\n",
      "\n",
      "See the caveats in the documentation: https://pandas.pydata.org/pandas-docs/stable/user_guide/indexing.html#returning-a-view-versus-a-copy\n",
      "  self._setitem_single_column(loc, value, pi)\n",
      "C:\\Users\\idanm\\anaconda3\\lib\\site-packages\\pandas\\core\\frame.py:4308: SettingWithCopyWarning: \n",
      "A value is trying to be set on a copy of a slice from a DataFrame\n",
      "\n",
      "See the caveats in the documentation: https://pandas.pydata.org/pandas-docs/stable/user_guide/indexing.html#returning-a-view-versus-a-copy\n",
      "  return super().drop(\n"
     ]
    }
   ],
   "source": [
    "SUV_board.loc[(SUV_board['paint_color'] == 'yellow') | (SUV_board['paint_color'] == 'purple'), 'paint_color'] = 'yellow/purple'\n",
    "sedan_board.drop(sedan_board[(sedan_board['paint_color'] == 'purple') | (sedan_board['paint_color'] == 'yellow') | (sedan_board['paint_color'] == 'orange')].index, inplace=True)\n",
    "\n",
    "#weve been told its ok to ignore this warning. still would like to know what youre supposed to do about that.."
   ]
  },
  {
   "cell_type": "markdown",
   "metadata": {},
   "source": [
    "<div class=\"alert alert-success\" style=\"border-radius: 15px; box-shadow: 4px 4px 4px; border: 1px solid \">\n",
    "<b> Reviewer's comment</b>\n",
    "    \n",
    "Yes, it's ok. Python's just telling us that it's much better to use **loc** in a condition, that's all. I've alerady told how to ignore warnings :)</div>"
   ]
  },
  {
   "cell_type": "code",
   "execution_count": 54,
   "metadata": {},
   "outputs": [
    {
     "data": {
      "image/png": "[encoded data removed]",
      "text/plain": [
       "<Figure size 720x576 with 1 Axes>"
      ]
     },
     "metadata": {
      "needs_background": "light"
     },
     "output_type": "display_data"
    }
   ],
   "source": [
    "plt.figure(figsize=(10, 8))\n",
    "sns.boxplot(x=\"transmission\", y=\"price\", hue='transmission',data=SUV_board)\n",
    "plt.ylabel(\"price\", size=14)\n",
    "plt.xlabel(\"transmission\",size=14)\n",
    "plt.title(\"price vs transmission (SUV)\", size=18)\n",
    "plt.savefig('')"
   ]
  },
  {
   "cell_type": "markdown",
   "metadata": {},
   "source": [
    "### conclusion"
   ]
  },
  {
   "cell_type": "markdown",
   "metadata": {},
   "source": [
    "surprisingly manual cars cost more, when not considering outliers of 2nd order (outliers of the already filteres data, that outliers were removed from). we have a cluster of automatic cars that stay outside the box, so its hard to draw conclusions. but if we insist, we can say that for a 'normal' priced car, manual transmission will be more expensive.\n",
    "\n",
    "maybe its because manual cars keep their value longer - manual transmission is healthier for the gearbox, while also lead the driver to use the engine more efficiently and therefore keep the car value for long."
   ]
  },
  {
   "cell_type": "markdown",
   "metadata": {},
   "source": [
    "<div class=\"alert alert-success\" style=\"border-radius: 15px; box-shadow: 4px 4px 4px; border: 1px solid \">\n",
    "<b> Reviewer's comment 2</b>\n",
    "    \n",
    "And automatic  are more common.  </div>"
   ]
  },
  {
   "cell_type": "code",
   "execution_count": 55,
   "metadata": {},
   "outputs": [
    {
     "data": {
      "image/png": "[encoded data removed]",
      "text/plain": [
       "<Figure size 1440x720 with 1 Axes>"
      ]
     },
     "metadata": {
      "needs_background": "light"
     },
     "output_type": "display_data"
    }
   ],
   "source": [
    "plt.figure(figsize=(20, 10))\n",
    "sns.boxplot(x=\"paint_color\", y=\"price\", hue='paint_color',data=SUV_board)\n",
    "plt.ylabel(\"price\", size=14)\n",
    "plt.xlabel(\"paint_color\",size=14)\n",
    "plt.title(\"price vs color (SUV)\", size=18)\n",
    "plt.legend(bbox_to_anchor=(1.05, 1), loc=2, borderaxespad=0.)\n",
    "plt.savefig('')"
   ]
  },
  {
   "cell_type": "markdown",
   "metadata": {},
   "source": [
    "<div class=\"alert alert-success\" style=\"border-radius: 15px; box-shadow: 4px 4px 4px; border: 1px solid \">\n",
    "<b> Reviewer's comment</b>\n",
    "    \n",
    "There's no need to use hue and such a big figsize. Hue makes boxes thinner and size of 14 by 10 should be enough:</div>"
   ]
  },
  {
   "cell_type": "code",
   "execution_count": 56,
   "metadata": {},
   "outputs": [
    {
     "data": {
      "text/plain": [
       "<AxesSubplot:xlabel='paint_color', ylabel='price'>"
      ]
     },
     "execution_count": 56,
     "metadata": {},
     "output_type": "execute_result"
    },
    {
     "data": {
      "image/png": "[encoded data removed]",
      "text/plain": [
       "<Figure size 1008x720 with 1 Axes>"
      ]
     },
     "metadata": {
      "needs_background": "light"
     },
     "output_type": "display_data"
    }
   ],
   "source": [
    "# Reviewer's code\n",
    "\n",
    "plt.figure(figsize=(14, 10))\n",
    "sns.boxplot(x=\"paint_color\", y=\"price\", data=SUV_board)"
   ]
  },
  {
   "cell_type": "markdown",
   "metadata": {},
   "source": [
    "### conclusion"
   ]
  },
  {
   "cell_type": "markdown",
   "metadata": {},
   "source": [
    "all colors have considerabble amounts of outliers (maybe besides yellow/purple) so its not the best way to make conclusions. but still, by taking a look at the boxplot we can see that orange carss are the most expensive.\n",
    "but if we count outliers (again, of 2nd order) it looks like white and black are also in the league of the orange color.\n",
    "as for white and black, it make sense, as those are the most utilized colors - white's good for hot weather, and black's good for cold. as for orange, maybe its considered a very cool color for a car, but i really dont know why its more prestigous than red, which is the default cool color for a car. maybe the rules change when it comes to SUV's."
   ]
  },
  {
   "cell_type": "markdown",
   "metadata": {},
   "source": [
    "<div class=\"alert alert-success\" style=\"border-radius: 15px; box-shadow: 4px 4px 4px; border: 1px solid \">\n",
    "<b> Reviewer's comment</b>\n",
    "    \n",
    "    \n",
    "I think, we got such a distribution accidentally. </div>"
   ]
  },
  {
   "cell_type": "code",
   "execution_count": 57,
   "metadata": {},
   "outputs": [
    {
     "data": {
      "image/png": "[encoded data removed]",
      "text/plain": [
       "<Figure size 720x576 with 1 Axes>"
      ]
     },
     "metadata": {
      "needs_background": "light"
     },
     "output_type": "display_data"
    }
   ],
   "source": [
    "plt.figure(figsize=(10, 8))\n",
    "sns.boxplot(x=\"transmission\", y=\"price\", hue='transmission',data=sedan_board)\n",
    "plt.ylabel(\"price\", size=14)\n",
    "plt.xlabel(\"transmission\",size=14)\n",
    "plt.title(\"price vs transmission (sedan)\", size=18)\n",
    "plt.savefig('')"
   ]
  },
  {
   "cell_type": "markdown",
   "metadata": {},
   "source": [
    "### conclusion"
   ]
  },
  {
   "cell_type": "markdown",
   "metadata": {},
   "source": [
    "its clear automatic cars are more expensive, with or without considering the 2nd order outliers. and thats completely make sense:)"
   ]
  },
  {
   "cell_type": "code",
   "execution_count": 58,
   "metadata": {},
   "outputs": [
    {
     "data": {
      "image/png": "[encoded data removed]",
      "text/plain": [
       "<Figure size 1440x720 with 1 Axes>"
      ]
     },
     "metadata": {
      "needs_background": "light"
     },
     "output_type": "display_data"
    }
   ],
   "source": [
    "plt.figure(figsize=(20, 10))\n",
    "sns.boxplot(x=\"paint_color\", y=\"price\", hue='paint_color',data=sedan_board)\n",
    "plt.ylabel(\"price\", size=14)\n",
    "plt.xlabel(\"paint_color\",size=14)\n",
    "plt.title(\"price vs color (sedan)\", size=18)\n",
    "plt.legend(bbox_to_anchor=(1.05, 1), loc=2, borderaxespad=0.)\n",
    "plt.savefig('')"
   ]
  },
  {
   "cell_type": "markdown",
   "metadata": {},
   "source": [
    "### conclusion"
   ]
  },
  {
   "cell_type": "markdown",
   "metadata": {},
   "source": [
    "all colors are about the same price, and have about the same number of outliers (besides green - probably people don't want a green sedan). its surprising we dont see the white and black colors a bit higher than the rest.\n",
    "in further research we could check which cars got sold quicker - and our guess will be that white and black cars got sold quicker than same priced cars in other colors."
   ]
  },
  {
   "cell_type": "markdown",
   "metadata": {},
   "source": [
    "## Overall conclusion"
   ]
  },
  {
   "cell_type": "markdown",
   "metadata": {},
   "source": [
    "we investigated only SUV's and sedan's, so the conclusions relevant only for them. with that said, those were the 2 most popular types of cars in our board, so its not ridiculous to anticipate similar conclusions for other types of cars.\n",
    "\n",
    "generally, the price behaves as expected - as mileage and age grows the price goes down. automatic cars are more expensive, and a better condition car costs more as well.\n",
    "however, we noticed some peculiar things:\n",
    "\n",
    "theres a non negligble amount of practically new cars (age-wise and mileage-wise; for now we dont know if the same cars responsible for both peculiarities in those parameters) that get sold almost for free. we didnt had a serious explanation for that..\n",
    "\n",
    "strangely, \"like new\" condition turned out to be cheaper than lesser conditioned cars. we said it might imply something about those cars that are offered for sell with 'like new' condition - we argued its probably lamborgini new jeep, or some other luxurious cars, together with a lot of durable cars like toyota in the 2&3 conditions.\n",
    "the other option is that those \"like new\" cars were as garbage to begin with, and hence their low value.\n",
    "\n",
    "we saw that manual SUV cars were a bit more expensive, but its pretty negligble, as it involves 2nd order outliers and the gaps were not so big.\n",
    "\n",
    "we were surprised to see that orange color for a SUV is something thats pretty sought after. we were also surprised to see that for sedan's,  black and white are popular just as all the other colors."
   ]
  },
  {
   "cell_type": "markdown",
   "metadata": {},
   "source": [
    "<div style=\"border-radius: 15px; border: 3px solid indigo; padding: 15px;\">\n",
    "<h2> Overall conclusion</h2>\n",
    " \n",
    "<div class=\"alert alert-success\" style=\"border-radius: 15px; box-shadow: 4px 4px 4px; border: 1px solid \">\n",
    "    \n",
    "You've done a really job! \n",
    "    \n",
    "- You've shown good analytical and coding skills. \n",
    "- The data was prepared successfully, functions and groupby methods were used correctly.\n",
    "- There are a lot graphs. It is good, visualization never hurts. \n",
    "- Moreover, the project has a great conclusion, which is also important. \n",
    "    \n",
    "</div>  \n",
    "    \n",
    "    \n",
    "<div class=\"alert alert-warning\" style=\"border-radius: 15px; box-shadow: 4px 4px 4px; border: 1px solid \">\n",
    "    \n",
    "A piece of advice: try to make your project and presentations impersonal, i.e. avoid phrases *we did* or *I built*, instead of them use *the research was conducted*, *new parameters were added* or *histograms were built*. It will make your work more presentable.\n",
    "    \n",
    "</div>    \n",
    "    \n",
    "<div class=\"alert alert-danger\" style=\"border-radius: 15px; box-shadow: 4px 4px 4px; border: 1px solid \">\n",
    "    \n",
    "There are some issues that need to be fixed, but it will not take much time. \n",
    "    \n",
    "- Try to fill in the odometer gaps.\n",
    "    \n",
    "    \n",
    "- Check out the cell that didn't work.\n",
    "    \n",
    "    \n",
    "- Fix outliers cleaning.    \n",
    "    \n",
    "    \n",
    "- Some of the graphs don't have labels.\n",
    "    \n",
    "    \n",
    "As soon as you fix them I will accept the project 😉\n",
    "    \n",
    "</div></div>"
   ]
  },
  {
   "cell_type": "markdown",
   "metadata": {},
   "source": [
    "# Project completion checklist\n",
    "\n",
    "Mark the completed tasks with 'x'. Then press Shift+Enter."
   ]
  },
  {
   "cell_type": "markdown",
   "metadata": {},
   "source": [
    "- [x]  file opened\n",
    "- [x]  files explored (first rows printed, info() method)\n",
    "- [x]  missing values determined\n",
    "- [x]  missing values filled in\n",
    "- [x]  clarification of the discovered missing values provided\n",
    "- [x]  data types converted\n",
    "- [x]  explanation of which columns had the data types changed and why\n",
    "- [x]  calculated and added to the table: day of the week, month, and year the ad was placed\n",
    "- [x]  calculated and added to the table: the vehicle's age (in years) when the ad was placed\n",
    "- [x]  calculated and added to the table: the vehicle's average mileage per year\n",
    "- [x]  the following parameters investigated: price, vehicle's age when the ad was placed, mileage, number of cylinders, and condition\n",
    "- [x]  histograms for each parameter created\n",
    "- [x]  task completed: \"Determine the upper limits of outliers, remove the outliers and store them in a separate DataFrame, and continue your work with the filtered data.\"\n",
    "- [x]  task completed: \"Use the filtered data to plot new histograms. Compare them with the earlier histograms (the ones that included outliers). Draw conclusions for each histogram.\"\n",
    "- [x]  task completed: \"Study how many days advertisements were displayed (days_listed). Plot a histogram. Calculate the mean and median. Describe the typical lifetime of an ad. Determine when ads were removed quickly, and when they were listed for an abnormally long time.  \"\n",
    "- [x]  task completed: \"Analyze the number of ads and the average price for each type of vehicle. Plot a graph showing the dependence of the number of ads on the vehicle type. Select the two types with the greatest number of ads. \"\n",
    "- [x]  task completed: \"What factors impact the price most? Take each of the popular types you detected at the previous stage and study whether the price depends on age, mileage, condition, transmission type, and color. For categorical variables (transmission type and color), plot box-and-whisker charts, and create scatterplots for the rest. When analyzing categorical variables, note that the categories must have at least 50 ads; otherwise, their parameters won't be valid for analysis.  \"\n",
    "- [x]  each stage has a conclusion\n",
    "- [x]  overall conclusion drawn"
   ]
  }
 ],
 "metadata": {
  "ExecuteTimeLog": [
   {
    "duration": 1321,
    "start_time": "2021-10-28T12:56:45.589Z"
   },
   {
    "duration": 553,
    "start_time": "2021-10-28T12:56:46.913Z"
   },
   {
    "duration": 10,
    "start_time": "2021-10-28T12:56:47.468Z"
   },
   {
    "duration": 3,
    "start_time": "2021-10-28T12:56:47.480Z"
   },
   {
    "duration": 7,
    "start_time": "2021-10-28T12:56:47.485Z"
   },
   {
    "duration": 6,
    "start_time": "2021-10-28T12:56:47.494Z"
   },
   {
    "duration": 75,
    "start_time": "2021-10-28T12:56:47.502Z"
   },
   {
    "duration": 4,
    "start_time": "2021-10-28T12:56:47.579Z"
   },
   {
    "duration": 7,
    "start_time": "2021-10-28T12:56:47.585Z"
   },
   {
    "duration": 88,
    "start_time": "2021-10-28T12:56:47.593Z"
   },
   {
    "duration": 3,
    "start_time": "2021-10-28T12:56:47.683Z"
   },
   {
    "duration": 16,
    "start_time": "2021-10-28T12:56:47.688Z"
   },
   {
    "duration": 10,
    "start_time": "2021-10-28T12:56:47.706Z"
   },
   {
    "duration": 5,
    "start_time": "2021-10-28T12:56:47.718Z"
   },
   {
    "duration": 187,
    "start_time": "2021-10-28T12:56:47.725Z"
   },
   {
    "duration": 25,
    "start_time": "2021-10-28T12:56:47.914Z"
   },
   {
    "duration": 89,
    "start_time": "2021-10-28T12:56:47.941Z"
   },
   {
    "duration": 483,
    "start_time": "2021-10-28T12:56:48.032Z"
   },
   {
    "duration": 398,
    "start_time": "2021-10-28T12:56:48.517Z"
   },
   {
    "duration": 348,
    "start_time": "2021-10-28T12:56:48.917Z"
   },
   {
    "duration": 435,
    "start_time": "2021-10-28T12:56:49.267Z"
   },
   {
    "duration": 350,
    "start_time": "2021-10-28T12:56:49.703Z"
   },
   {
    "duration": 24,
    "start_time": "2021-10-28T12:56:50.058Z"
   },
   {
    "duration": 374,
    "start_time": "2021-10-28T12:56:50.085Z"
   },
   {
    "duration": 345,
    "start_time": "2021-10-28T12:56:50.461Z"
   },
   {
    "duration": 352,
    "start_time": "2021-10-28T12:56:50.808Z"
   },
   {
    "duration": 350,
    "start_time": "2021-10-28T12:56:51.162Z"
   },
   {
    "duration": 475,
    "start_time": "2021-10-28T12:56:51.514Z"
   },
   {
    "duration": 780,
    "start_time": "2021-10-28T12:56:51.991Z"
   },
   {
    "duration": 22,
    "start_time": "2021-10-28T12:56:52.776Z"
   },
   {
    "duration": 579,
    "start_time": "2021-10-28T12:56:52.800Z"
   },
   {
    "duration": -1138,
    "start_time": "2021-10-28T12:56:54.519Z"
   },
   {
    "duration": -1150,
    "start_time": "2021-10-28T12:56:54.531Z"
   },
   {
    "duration": -1151,
    "start_time": "2021-10-28T12:56:54.533Z"
   },
   {
    "duration": -1152,
    "start_time": "2021-10-28T12:56:54.535Z"
   },
   {
    "duration": -1152,
    "start_time": "2021-10-28T12:56:54.536Z"
   },
   {
    "duration": -1152,
    "start_time": "2021-10-28T12:56:54.537Z"
   },
   {
    "duration": -1153,
    "start_time": "2021-10-28T12:56:54.539Z"
   },
   {
    "duration": -1153,
    "start_time": "2021-10-28T12:56:54.540Z"
   },
   {
    "duration": -1154,
    "start_time": "2021-10-28T12:56:54.541Z"
   },
   {
    "duration": -1155,
    "start_time": "2021-10-28T12:56:54.543Z"
   },
   {
    "duration": 363,
    "start_time": "2021-10-28T12:58:18.144Z"
   },
   {
    "duration": 22,
    "start_time": "2021-10-28T12:58:27.078Z"
   },
   {
    "duration": 3,
    "start_time": "2021-10-28T12:58:39.827Z"
   },
   {
    "duration": 364,
    "start_time": "2021-10-28T12:58:39.832Z"
   },
   {
    "duration": 20,
    "start_time": "2021-10-28T12:58:40.198Z"
   },
   {
    "duration": 874,
    "start_time": "2021-10-28T12:58:40.220Z"
   },
   {
    "duration": 7,
    "start_time": "2021-10-28T12:59:02.272Z"
   },
   {
    "duration": 4,
    "start_time": "2021-10-28T12:59:03.842Z"
   },
   {
    "duration": 6,
    "start_time": "2021-10-28T12:59:13.169Z"
   },
   {
    "duration": 25,
    "start_time": "2021-10-28T13:06:17.517Z"
   },
   {
    "duration": 395,
    "start_time": "2021-10-28T13:06:36.172Z"
   },
   {
    "duration": 27,
    "start_time": "2021-10-28T13:06:40.845Z"
   },
   {
    "duration": 11,
    "start_time": "2021-10-28T13:06:54.442Z"
   },
   {
    "duration": 13,
    "start_time": "2021-10-28T13:07:00.332Z"
   },
   {
    "duration": 14,
    "start_time": "2021-10-28T13:07:08.057Z"
   },
   {
    "duration": 2,
    "start_time": "2021-10-28T13:09:25.160Z"
   },
   {
    "duration": 449,
    "start_time": "2021-10-28T13:09:25.164Z"
   },
   {
    "duration": 20,
    "start_time": "2021-10-28T13:09:25.615Z"
   },
   {
    "duration": 41,
    "start_time": "2021-10-28T13:09:25.637Z"
   },
   {
    "duration": 7,
    "start_time": "2021-10-28T13:09:25.679Z"
   },
   {
    "duration": 4,
    "start_time": "2021-10-28T13:09:25.687Z"
   },
   {
    "duration": 5,
    "start_time": "2021-10-28T13:09:25.692Z"
   },
   {
    "duration": 5,
    "start_time": "2021-10-28T13:09:25.699Z"
   },
   {
    "duration": 101,
    "start_time": "2021-10-28T13:09:25.705Z"
   },
   {
    "duration": 3,
    "start_time": "2021-10-28T13:09:25.808Z"
   },
   {
    "duration": 7,
    "start_time": "2021-10-28T13:09:25.813Z"
   },
   {
    "duration": 15,
    "start_time": "2021-10-28T13:09:27.646Z"
   },
   {
    "duration": 4,
    "start_time": "2021-10-28T14:29:58.337Z"
   },
   {
    "duration": 9,
    "start_time": "2021-10-28T14:30:13.561Z"
   },
   {
    "duration": 344,
    "start_time": "2021-10-28T14:30:47.297Z"
   },
   {
    "duration": 49,
    "start_time": "2021-10-28T14:30:55.185Z"
   },
   {
    "duration": 15,
    "start_time": "2021-10-28T14:39:37.295Z"
   },
   {
    "duration": 1339,
    "start_time": "2021-10-28T14:39:37.312Z"
   },
   {
    "duration": 1162,
    "start_time": "2021-10-28T14:39:38.653Z"
   },
   {
    "duration": 1269,
    "start_time": "2021-10-28T14:39:39.817Z"
   },
   {
    "duration": 13,
    "start_time": "2021-10-28T14:39:41.087Z"
   },
   {
    "duration": 20,
    "start_time": "2021-10-28T14:39:41.102Z"
   },
   {
    "duration": 586,
    "start_time": "2021-10-28T14:39:41.123Z"
   },
   {
    "duration": 991,
    "start_time": "2021-10-28T14:39:41.711Z"
   },
   {
    "duration": 770,
    "start_time": "2021-10-28T14:39:42.705Z"
   },
   {
    "duration": 907,
    "start_time": "2021-10-28T14:39:43.477Z"
   },
   {
    "duration": 25,
    "start_time": "2021-10-28T14:40:34.802Z"
   },
   {
    "duration": 7,
    "start_time": "2021-10-28T14:40:42.362Z"
   },
   {
    "duration": 5,
    "start_time": "2021-10-28T14:40:45.376Z"
   },
   {
    "duration": 12,
    "start_time": "2021-10-28T14:43:51.965Z"
   },
   {
    "duration": 28,
    "start_time": "2021-10-28T14:44:07.523Z"
   },
   {
    "duration": 3,
    "start_time": "2021-10-28T14:48:55.531Z"
   },
   {
    "duration": 387,
    "start_time": "2021-10-28T14:48:55.536Z"
   },
   {
    "duration": 18,
    "start_time": "2021-10-28T14:48:55.925Z"
   },
   {
    "duration": 34,
    "start_time": "2021-10-28T14:48:55.945Z"
   },
   {
    "duration": 5,
    "start_time": "2021-10-28T14:48:55.981Z"
   },
   {
    "duration": 20,
    "start_time": "2021-10-28T14:48:55.988Z"
   },
   {
    "duration": 16,
    "start_time": "2021-10-28T14:48:56.010Z"
   },
   {
    "duration": 19,
    "start_time": "2021-10-28T14:48:56.028Z"
   },
   {
    "duration": 81,
    "start_time": "2021-10-28T14:48:56.049Z"
   },
   {
    "duration": 4,
    "start_time": "2021-10-28T14:48:56.132Z"
   },
   {
    "duration": 16,
    "start_time": "2021-10-28T14:48:56.137Z"
   },
   {
    "duration": 21,
    "start_time": "2021-10-28T14:48:56.154Z"
   },
   {
    "duration": 83,
    "start_time": "2021-10-28T14:48:56.176Z"
   },
   {
    "duration": 3,
    "start_time": "2021-10-28T14:48:56.261Z"
   },
   {
    "duration": 30,
    "start_time": "2021-10-28T14:48:56.266Z"
   },
   {
    "duration": 36,
    "start_time": "2021-10-28T14:48:56.298Z"
   },
   {
    "duration": 18,
    "start_time": "2021-10-28T14:48:56.337Z"
   },
   {
    "duration": 155,
    "start_time": "2021-10-28T14:48:56.357Z"
   },
   {
    "duration": 25,
    "start_time": "2021-10-28T14:48:56.514Z"
   },
   {
    "duration": 19,
    "start_time": "2021-10-28T14:48:56.541Z"
   },
   {
    "duration": 25,
    "start_time": "2021-10-28T14:48:56.562Z"
   },
   {
    "duration": 374,
    "start_time": "2021-10-28T14:48:56.588Z"
   },
   {
    "duration": -1477,
    "start_time": "2021-10-28T14:48:58.441Z"
   },
   {
    "duration": -1480,
    "start_time": "2021-10-28T14:48:58.445Z"
   },
   {
    "duration": -1482,
    "start_time": "2021-10-28T14:48:58.448Z"
   },
   {
    "duration": -1485,
    "start_time": "2021-10-28T14:48:58.452Z"
   },
   {
    "duration": -1487,
    "start_time": "2021-10-28T14:48:58.455Z"
   },
   {
    "duration": -1489,
    "start_time": "2021-10-28T14:48:58.458Z"
   },
   {
    "duration": 355,
    "start_time": "2021-10-28T14:49:11.567Z"
   },
   {
    "duration": 76,
    "start_time": "2021-10-28T14:49:18.462Z"
   },
   {
    "duration": 349,
    "start_time": "2021-10-28T14:49:21.234Z"
   },
   {
    "duration": 456,
    "start_time": "2021-10-28T14:49:23.422Z"
   },
   {
    "duration": 325,
    "start_time": "2021-10-28T14:49:24.514Z"
   },
   {
    "duration": 352,
    "start_time": "2021-10-28T14:49:27.039Z"
   },
   {
    "duration": 350,
    "start_time": "2021-10-28T14:49:27.447Z"
   },
   {
    "duration": 6,
    "start_time": "2021-10-28T14:49:32.987Z"
   },
   {
    "duration": 13,
    "start_time": "2021-10-28T14:55:03.604Z"
   },
   {
    "duration": 10,
    "start_time": "2021-10-28T14:55:31.436Z"
   },
   {
    "duration": 212,
    "start_time": "2021-10-28T14:55:34.604Z"
   },
   {
    "duration": 212,
    "start_time": "2021-10-28T14:55:39.726Z"
   },
   {
    "duration": 570,
    "start_time": "2021-10-28T15:01:26.761Z"
   },
   {
    "duration": 569,
    "start_time": "2021-10-28T15:03:27.234Z"
   },
   {
    "duration": 519,
    "start_time": "2021-10-28T15:03:56.570Z"
   },
   {
    "duration": 117,
    "start_time": "2021-10-28T15:04:09.009Z"
   },
   {
    "duration": 678,
    "start_time": "2021-10-28T15:04:11.162Z"
   },
   {
    "duration": 455,
    "start_time": "2021-10-28T15:04:21.101Z"
   },
   {
    "duration": 1810,
    "start_time": "2021-11-15T19:18:06.625Z"
   },
   {
    "duration": 558,
    "start_time": "2021-11-15T19:18:08.439Z"
   },
   {
    "duration": 26,
    "start_time": "2021-11-15T19:18:09.001Z"
   },
   {
    "duration": 78860,
    "start_time": "2021-11-15T19:18:09.030Z"
   },
   {
    "duration": 10,
    "start_time": "2021-11-15T19:19:27.894Z"
   },
   {
    "duration": 6,
    "start_time": "2021-11-15T19:19:27.906Z"
   },
   {
    "duration": 8,
    "start_time": "2021-11-15T19:19:27.914Z"
   },
   {
    "duration": 10,
    "start_time": "2021-11-15T19:19:27.927Z"
   },
   {
    "duration": 129,
    "start_time": "2021-11-15T19:19:27.940Z"
   },
   {
    "duration": 11,
    "start_time": "2021-11-15T19:19:28.071Z"
   },
   {
    "duration": 13,
    "start_time": "2021-11-15T19:19:28.085Z"
   },
   {
    "duration": 46,
    "start_time": "2021-11-15T19:19:28.101Z"
   },
   {
    "duration": 139,
    "start_time": "2021-11-15T19:19:28.150Z"
   },
   {
    "duration": 5,
    "start_time": "2021-11-15T19:19:28.291Z"
   },
   {
    "duration": 20,
    "start_time": "2021-11-15T19:19:28.298Z"
   },
   {
    "duration": 16,
    "start_time": "2021-11-15T19:19:28.320Z"
   },
   {
    "duration": 53,
    "start_time": "2021-11-15T19:19:28.338Z"
   },
   {
    "duration": 219,
    "start_time": "2021-11-15T19:19:28.394Z"
   },
   {
    "duration": 6,
    "start_time": "2021-11-15T19:19:28.615Z"
   },
   {
    "duration": 14,
    "start_time": "2021-11-15T19:19:28.624Z"
   },
   {
    "duration": 66,
    "start_time": "2021-11-15T19:19:28.640Z"
   },
   {
    "duration": 40,
    "start_time": "2021-11-15T19:19:28.709Z"
   },
   {
    "duration": 148,
    "start_time": "2021-11-15T19:19:28.756Z"
   },
   {
    "duration": 597,
    "start_time": "2021-11-15T19:19:28.907Z"
   },
   {
    "duration": 566,
    "start_time": "2021-11-15T19:19:29.506Z"
   },
   {
    "duration": 910,
    "start_time": "2021-11-15T19:19:30.075Z"
   },
   {
    "duration": 617,
    "start_time": "2021-11-15T19:19:30.987Z"
   },
   {
    "duration": 563,
    "start_time": "2021-11-15T19:19:31.607Z"
   },
   {
    "duration": 29,
    "start_time": "2021-11-15T19:19:32.172Z"
   },
   {
    "duration": 43,
    "start_time": "2021-11-15T19:19:32.203Z"
   },
   {
    "duration": 622,
    "start_time": "2021-11-15T19:19:32.249Z"
   },
   {
    "duration": 570,
    "start_time": "2021-11-15T19:19:32.873Z"
   },
   {
    "duration": 660,
    "start_time": "2021-11-15T19:19:33.446Z"
   },
   {
    "duration": 573,
    "start_time": "2021-11-15T19:19:34.109Z"
   },
   {
    "duration": 549,
    "start_time": "2021-11-15T19:19:34.684Z"
   },
   {
    "duration": 938,
    "start_time": "2021-11-15T19:19:35.235Z"
   },
   {
    "duration": 35,
    "start_time": "2021-11-15T19:19:36.181Z"
   },
   {
    "duration": 863,
    "start_time": "2021-11-15T19:19:36.218Z"
   },
   {
    "duration": -947,
    "start_time": "2021-11-15T19:19:38.031Z"
   },
   {
    "duration": -949,
    "start_time": "2021-11-15T19:19:38.035Z"
   },
   {
    "duration": -947,
    "start_time": "2021-11-15T19:19:38.036Z"
   },
   {
    "duration": -947,
    "start_time": "2021-11-15T19:19:38.038Z"
   },
   {
    "duration": -947,
    "start_time": "2021-11-15T19:19:38.040Z"
   },
   {
    "duration": -948,
    "start_time": "2021-11-15T19:19:38.043Z"
   },
   {
    "duration": -947,
    "start_time": "2021-11-15T19:19:38.045Z"
   },
   {
    "duration": -947,
    "start_time": "2021-11-15T19:19:38.047Z"
   },
   {
    "duration": -946,
    "start_time": "2021-11-15T19:19:38.048Z"
   },
   {
    "duration": -946,
    "start_time": "2021-11-15T19:19:38.050Z"
   },
   {
    "duration": -945,
    "start_time": "2021-11-15T19:19:38.052Z"
   },
   {
    "duration": -945,
    "start_time": "2021-11-15T19:19:38.054Z"
   },
   {
    "duration": -945,
    "start_time": "2021-11-15T19:19:38.056Z"
   },
   {
    "duration": -943,
    "start_time": "2021-11-15T19:19:38.057Z"
   },
   {
    "duration": 26,
    "start_time": "2021-11-15T19:24:47.470Z"
   },
   {
    "duration": 2344,
    "start_time": "2021-11-15T19:24:47.499Z"
   },
   {
    "duration": 1965,
    "start_time": "2021-11-15T19:24:49.846Z"
   },
   {
    "duration": 20,
    "start_time": "2021-11-15T19:24:51.814Z"
   },
   {
    "duration": 16,
    "start_time": "2021-11-15T19:24:51.836Z"
   },
   {
    "duration": 485,
    "start_time": "2021-11-15T19:24:51.854Z"
   },
   {
    "duration": 1638,
    "start_time": "2021-11-15T19:24:52.342Z"
   },
   {
    "duration": 18,
    "start_time": "2021-11-15T19:24:53.984Z"
   },
   {
    "duration": 28,
    "start_time": "2021-11-15T19:24:54.004Z"
   },
   {
    "duration": 796,
    "start_time": "2021-11-15T19:24:54.034Z"
   },
   {
    "duration": 1778,
    "start_time": "2021-11-15T19:24:54.832Z"
   },
   {
    "duration": 714,
    "start_time": "2021-11-15T19:24:56.612Z"
   },
   {
    "duration": 771,
    "start_time": "2021-11-15T19:24:57.328Z"
   },
   {
    "duration": 1412,
    "start_time": "2021-11-15T19:24:58.102Z"
   },
   {
    "duration": 2139,
    "start_time": "2021-11-17T08:55:58.682Z"
   },
   {
    "duration": 1478,
    "start_time": "2021-11-17T08:56:00.824Z"
   },
   {
    "duration": 30,
    "start_time": "2021-11-17T08:56:02.307Z"
   },
   {
    "duration": 1206,
    "start_time": "2021-11-17T08:56:02.341Z"
   },
   {
    "duration": 10,
    "start_time": "2021-11-17T08:56:03.550Z"
   },
   {
    "duration": 5,
    "start_time": "2021-11-17T08:56:03.563Z"
   },
   {
    "duration": 32,
    "start_time": "2021-11-17T08:56:03.571Z"
   },
   {
    "duration": 9,
    "start_time": "2021-11-17T08:56:03.606Z"
   },
   {
    "duration": 143,
    "start_time": "2021-11-17T08:56:03.619Z"
   },
   {
    "duration": 4,
    "start_time": "2021-11-17T08:56:03.766Z"
   },
   {
    "duration": 31,
    "start_time": "2021-11-17T08:56:03.773Z"
   },
   {
    "duration": 29,
    "start_time": "2021-11-17T08:56:03.807Z"
   },
   {
    "duration": 284,
    "start_time": "2021-11-17T08:56:03.838Z"
   },
   {
    "duration": 5,
    "start_time": "2021-11-17T08:56:04.125Z"
   },
   {
    "duration": 85,
    "start_time": "2021-11-17T08:56:04.133Z"
   },
   {
    "duration": 13,
    "start_time": "2021-11-17T08:56:04.221Z"
   },
   {
    "duration": 94,
    "start_time": "2021-11-17T08:56:04.237Z"
   },
   {
    "duration": 426,
    "start_time": "2021-11-17T08:56:04.335Z"
   },
   {
    "duration": 8,
    "start_time": "2021-11-17T08:56:04.764Z"
   },
   {
    "duration": 37,
    "start_time": "2021-11-17T08:56:04.775Z"
   },
   {
    "duration": 91,
    "start_time": "2021-11-17T08:56:04.815Z"
   },
   {
    "duration": 41,
    "start_time": "2021-11-17T08:56:04.910Z"
   },
   {
    "duration": 164,
    "start_time": "2021-11-17T08:56:04.954Z"
   },
   {
    "duration": 1089,
    "start_time": "2021-11-17T08:56:05.120Z"
   },
   {
    "duration": 627,
    "start_time": "2021-11-17T08:56:06.211Z"
   },
   {
    "duration": 896,
    "start_time": "2021-11-17T08:56:06.840Z"
   },
   {
    "duration": 1027,
    "start_time": "2021-11-17T08:56:07.745Z"
   },
   {
    "duration": 610,
    "start_time": "2021-11-17T08:56:08.775Z"
   },
   {
    "duration": 36,
    "start_time": "2021-11-17T08:56:09.389Z"
   },
   {
    "duration": 42,
    "start_time": "2021-11-17T08:56:09.428Z"
   },
   {
    "duration": 651,
    "start_time": "2021-11-17T08:56:09.472Z"
   },
   {
    "duration": 606,
    "start_time": "2021-11-17T08:56:10.126Z"
   },
   {
    "duration": 741,
    "start_time": "2021-11-17T08:56:10.735Z"
   },
   {
    "duration": 625,
    "start_time": "2021-11-17T08:56:11.479Z"
   },
   {
    "duration": 714,
    "start_time": "2021-11-17T08:56:12.107Z"
   },
   {
    "duration": 599,
    "start_time": "2021-11-17T08:56:12.823Z"
   },
   {
    "duration": 33,
    "start_time": "2021-11-17T08:56:13.424Z"
   },
   {
    "duration": 389,
    "start_time": "2021-11-17T08:56:13.459Z"
   },
   {
    "duration": 19,
    "start_time": "2021-11-17T08:56:13.850Z"
   },
   {
    "duration": 1848,
    "start_time": "2021-11-17T08:56:13.871Z"
   },
   {
    "duration": 1907,
    "start_time": "2021-11-17T08:56:15.722Z"
   },
   {
    "duration": 19,
    "start_time": "2021-11-17T08:56:17.632Z"
   },
   {
    "duration": 13,
    "start_time": "2021-11-17T08:56:17.654Z"
   },
   {
    "duration": 542,
    "start_time": "2021-11-17T08:56:17.670Z"
   },
   {
    "duration": 1753,
    "start_time": "2021-11-17T08:56:18.215Z"
   },
   {
    "duration": 17,
    "start_time": "2021-11-17T08:56:19.970Z"
   },
   {
    "duration": 27,
    "start_time": "2021-11-17T08:56:20.006Z"
   },
   {
    "duration": 818,
    "start_time": "2021-11-17T08:56:20.036Z"
   },
   {
    "duration": 1647,
    "start_time": "2021-11-17T08:56:20.856Z"
   },
   {
    "duration": 805,
    "start_time": "2021-11-17T08:56:22.507Z"
   },
   {
    "duration": 824,
    "start_time": "2021-11-17T08:56:23.315Z"
   },
   {
    "duration": 1487,
    "start_time": "2021-11-17T08:56:24.142Z"
   },
   {
    "duration": 465,
    "start_time": "2021-11-17T08:57:26.275Z"
   },
   {
    "duration": 310,
    "start_time": "2021-11-17T08:57:32.226Z"
   },
   {
    "duration": 56,
    "start_time": "2021-11-17T08:57:36.070Z"
   },
   {
    "duration": 21,
    "start_time": "2021-11-17T09:02:14.308Z"
   },
   {
    "duration": 26,
    "start_time": "2021-11-17T09:02:51.310Z"
   },
   {
    "duration": 3,
    "start_time": "2021-11-17T09:04:38.488Z"
   },
   {
    "duration": 459,
    "start_time": "2021-11-17T09:04:38.754Z"
   },
   {
    "duration": 19,
    "start_time": "2021-11-17T09:04:48.374Z"
   },
   {
    "duration": 63,
    "start_time": "2021-11-17T09:05:15.771Z"
   },
   {
    "duration": 6734,
    "start_time": "2021-11-17T09:05:20.416Z"
   },
   {
    "duration": 63,
    "start_time": "2021-11-17T09:05:30.698Z"
   },
   {
    "duration": 7073,
    "start_time": "2021-11-17T09:05:37.375Z"
   },
   {
    "duration": 327,
    "start_time": "2021-11-17T09:05:51.949Z"
   },
   {
    "duration": 30,
    "start_time": "2021-11-17T09:05:54.153Z"
   },
   {
    "duration": 38,
    "start_time": "2021-11-17T09:06:03.272Z"
   },
   {
    "duration": 1294,
    "start_time": "2021-11-17T09:07:03.635Z"
   },
   {
    "duration": 186,
    "start_time": "2021-11-17T09:07:14.501Z"
   },
   {
    "duration": 64,
    "start_time": "2021-11-17T09:08:06.476Z"
   },
   {
    "duration": 31,
    "start_time": "2021-11-17T09:08:19.743Z"
   },
   {
    "duration": 57,
    "start_time": "2021-11-17T09:09:09.487Z"
   },
   {
    "duration": 14,
    "start_time": "2021-11-17T09:09:18.971Z"
   },
   {
    "duration": 22,
    "start_time": "2021-11-17T09:14:29.893Z"
   },
   {
    "duration": 15,
    "start_time": "2021-11-17T09:20:33.604Z"
   },
   {
    "duration": 15,
    "start_time": "2021-11-17T09:20:50.603Z"
   },
   {
    "duration": 465,
    "start_time": "2021-11-30T18:24:21.853Z"
   },
   {
    "duration": 381,
    "start_time": "2021-11-30T18:24:36.435Z"
   },
   {
    "duration": 1084,
    "start_time": "2021-11-30T18:24:35.735Z"
   },
   {
    "duration": 1068,
    "start_time": "2021-11-30T18:24:35.752Z"
   },
   {
    "duration": 1064,
    "start_time": "2021-11-30T18:24:35.757Z"
   },
   {
    "duration": 1025,
    "start_time": "2021-11-30T18:24:35.797Z"
   },
   {
    "duration": 1021,
    "start_time": "2021-11-30T18:24:35.802Z"
   },
   {
    "duration": 1015,
    "start_time": "2021-11-30T18:24:35.809Z"
   },
   {
    "duration": 1011,
    "start_time": "2021-11-30T18:24:35.814Z"
   },
   {
    "duration": 1006,
    "start_time": "2021-11-30T18:24:35.820Z"
   },
   {
    "duration": 1002,
    "start_time": "2021-11-30T18:24:35.824Z"
   },
   {
    "duration": 997,
    "start_time": "2021-11-30T18:24:35.830Z"
   },
   {
    "duration": 994,
    "start_time": "2021-11-30T18:24:35.834Z"
   },
   {
    "duration": 982,
    "start_time": "2021-11-30T18:24:35.847Z"
   },
   {
    "duration": 979,
    "start_time": "2021-11-30T18:24:35.852Z"
   },
   {
    "duration": 975,
    "start_time": "2021-11-30T18:24:35.857Z"
   },
   {
    "duration": 971,
    "start_time": "2021-11-30T18:24:35.862Z"
   },
   {
    "duration": 967,
    "start_time": "2021-11-30T18:24:35.867Z"
   },
   {
    "duration": 963,
    "start_time": "2021-11-30T18:24:35.872Z"
   },
   {
    "duration": 960,
    "start_time": "2021-11-30T18:24:35.876Z"
   },
   {
    "duration": 957,
    "start_time": "2021-11-30T18:24:35.880Z"
   },
   {
    "duration": 954,
    "start_time": "2021-11-30T18:24:35.885Z"
   },
   {
    "duration": 950,
    "start_time": "2021-11-30T18:24:35.890Z"
   },
   {
    "duration": 946,
    "start_time": "2021-11-30T18:24:35.895Z"
   },
   {
    "duration": 943,
    "start_time": "2021-11-30T18:24:35.899Z"
   },
   {
    "duration": 939,
    "start_time": "2021-11-30T18:24:35.904Z"
   },
   {
    "duration": 935,
    "start_time": "2021-11-30T18:24:35.909Z"
   },
   {
    "duration": 782,
    "start_time": "2021-11-30T18:24:36.063Z"
   },
   {
    "duration": 748,
    "start_time": "2021-11-30T18:24:36.098Z"
   },
   {
    "duration": 743,
    "start_time": "2021-11-30T18:24:36.104Z"
   },
   {
    "duration": 740,
    "start_time": "2021-11-30T18:24:36.109Z"
   },
   {
    "duration": 735,
    "start_time": "2021-11-30T18:24:36.115Z"
   },
   {
    "duration": 731,
    "start_time": "2021-11-30T18:24:36.120Z"
   },
   {
    "duration": 727,
    "start_time": "2021-11-30T18:24:36.126Z"
   },
   {
    "duration": 723,
    "start_time": "2021-11-30T18:24:36.131Z"
   },
   {
    "duration": 718,
    "start_time": "2021-11-30T18:24:36.137Z"
   },
   {
    "duration": 715,
    "start_time": "2021-11-30T18:24:36.141Z"
   },
   {
    "duration": 600,
    "start_time": "2021-11-30T18:24:36.257Z"
   },
   {
    "duration": 505,
    "start_time": "2021-11-30T18:24:36.401Z"
   },
   {
    "duration": 401,
    "start_time": "2021-11-30T18:24:36.506Z"
   },
   {
    "duration": 398,
    "start_time": "2021-11-30T18:24:36.510Z"
   },
   {
    "duration": 394,
    "start_time": "2021-11-30T18:24:36.515Z"
   },
   {
    "duration": 392,
    "start_time": "2021-11-30T18:24:36.518Z"
   },
   {
    "duration": 388,
    "start_time": "2021-11-30T18:24:36.523Z"
   },
   {
    "duration": 385,
    "start_time": "2021-11-30T18:24:36.527Z"
   },
   {
    "duration": 382,
    "start_time": "2021-11-30T18:24:36.531Z"
   },
   {
    "duration": 378,
    "start_time": "2021-11-30T18:24:36.536Z"
   },
   {
    "duration": 365,
    "start_time": "2021-11-30T18:24:36.550Z"
   },
   {
    "duration": 361,
    "start_time": "2021-11-30T18:24:36.555Z"
   },
   {
    "duration": 356,
    "start_time": "2021-11-30T18:24:36.561Z"
   },
   {
    "duration": 354,
    "start_time": "2021-11-30T18:24:36.565Z"
   },
   {
    "duration": 349,
    "start_time": "2021-11-30T18:24:36.570Z"
   },
   {
    "duration": 347,
    "start_time": "2021-11-30T18:24:36.574Z"
   },
   {
    "duration": 343,
    "start_time": "2021-11-30T18:24:36.579Z"
   },
   {
    "duration": 339,
    "start_time": "2021-11-30T18:24:36.583Z"
   },
   {
    "duration": 336,
    "start_time": "2021-11-30T18:24:36.588Z"
   },
   {
    "duration": 332,
    "start_time": "2021-11-30T18:24:36.592Z"
   },
   {
    "duration": 329,
    "start_time": "2021-11-30T18:24:36.596Z"
   },
   {
    "duration": 327,
    "start_time": "2021-11-30T18:24:36.600Z"
   },
   {
    "duration": 353,
    "start_time": "2021-11-30T18:25:06.028Z"
   },
   {
    "duration": 380,
    "start_time": "2021-11-30T18:25:26.732Z"
   },
   {
    "duration": 1078,
    "start_time": "2021-11-30T18:25:26.037Z"
   },
   {
    "duration": 1061,
    "start_time": "2021-11-30T18:25:26.055Z"
   },
   {
    "duration": 1058,
    "start_time": "2021-11-30T18:25:26.059Z"
   },
   {
    "duration": 1035,
    "start_time": "2021-11-30T18:25:26.084Z"
   },
   {
    "duration": 1024,
    "start_time": "2021-11-30T18:25:26.096Z"
   },
   {
    "duration": 1021,
    "start_time": "2021-11-30T18:25:26.100Z"
   },
   {
    "duration": 1017,
    "start_time": "2021-11-30T18:25:26.105Z"
   },
   {
    "duration": 1014,
    "start_time": "2021-11-30T18:25:26.109Z"
   },
   {
    "duration": 1011,
    "start_time": "2021-11-30T18:25:26.113Z"
   },
   {
    "duration": 1006,
    "start_time": "2021-11-30T18:25:26.119Z"
   },
   {
    "duration": 1003,
    "start_time": "2021-11-30T18:25:26.123Z"
   },
   {
    "duration": 1000,
    "start_time": "2021-11-30T18:25:26.127Z"
   },
   {
    "duration": 997,
    "start_time": "2021-11-30T18:25:26.131Z"
   },
   {
    "duration": 994,
    "start_time": "2021-11-30T18:25:26.136Z"
   },
   {
    "duration": 990,
    "start_time": "2021-11-30T18:25:26.141Z"
   },
   {
    "duration": 870,
    "start_time": "2021-11-30T18:25:26.262Z"
   },
   {
    "duration": 540,
    "start_time": "2021-11-30T18:25:26.593Z"
   },
   {
    "duration": 529,
    "start_time": "2021-11-30T18:25:26.605Z"
   },
   {
    "duration": 524,
    "start_time": "2021-11-30T18:25:26.611Z"
   },
   {
    "duration": 520,
    "start_time": "2021-11-30T18:25:26.616Z"
   },
   {
    "duration": 516,
    "start_time": "2021-11-30T18:25:26.622Z"
   },
   {
    "duration": 513,
    "start_time": "2021-11-30T18:25:26.626Z"
   },
   {
    "duration": 509,
    "start_time": "2021-11-30T18:25:26.631Z"
   },
   {
    "duration": 507,
    "start_time": "2021-11-30T18:25:26.635Z"
   },
   {
    "duration": 503,
    "start_time": "2021-11-30T18:25:26.640Z"
   },
   {
    "duration": 500,
    "start_time": "2021-11-30T18:25:26.644Z"
   },
   {
    "duration": 497,
    "start_time": "2021-11-30T18:25:26.648Z"
   },
   {
    "duration": 494,
    "start_time": "2021-11-30T18:25:26.652Z"
   },
   {
    "duration": 490,
    "start_time": "2021-11-30T18:25:26.657Z"
   },
   {
    "duration": 467,
    "start_time": "2021-11-30T18:25:26.681Z"
   },
   {
    "duration": 465,
    "start_time": "2021-11-30T18:25:26.685Z"
   },
   {
    "duration": 462,
    "start_time": "2021-11-30T18:25:26.689Z"
   },
   {
    "duration": 459,
    "start_time": "2021-11-30T18:25:26.693Z"
   },
   {
    "duration": 509,
    "start_time": "2021-11-30T18:25:26.697Z"
   },
   {
    "duration": 507,
    "start_time": "2021-11-30T18:25:26.701Z"
   },
   {
    "duration": 492,
    "start_time": "2021-11-30T18:25:26.717Z"
   },
   {
    "duration": 485,
    "start_time": "2021-11-30T18:25:26.725Z"
   },
   {
    "duration": 481,
    "start_time": "2021-11-30T18:25:26.730Z"
   },
   {
    "duration": 476,
    "start_time": "2021-11-30T18:25:26.735Z"
   },
   {
    "duration": 472,
    "start_time": "2021-11-30T18:25:26.740Z"
   },
   {
    "duration": 468,
    "start_time": "2021-11-30T18:25:26.745Z"
   },
   {
    "duration": 465,
    "start_time": "2021-11-30T18:25:26.749Z"
   },
   {
    "duration": 461,
    "start_time": "2021-11-30T18:25:26.754Z"
   },
   {
    "duration": 458,
    "start_time": "2021-11-30T18:25:26.758Z"
   },
   {
    "duration": 455,
    "start_time": "2021-11-30T18:25:26.762Z"
   },
   {
    "duration": 452,
    "start_time": "2021-11-30T18:25:26.766Z"
   },
   {
    "duration": 447,
    "start_time": "2021-11-30T18:25:26.771Z"
   },
   {
    "duration": 444,
    "start_time": "2021-11-30T18:25:26.775Z"
   },
   {
    "duration": 441,
    "start_time": "2021-11-30T18:25:26.779Z"
   },
   {
    "duration": 438,
    "start_time": "2021-11-30T18:25:26.783Z"
   },
   {
    "duration": 435,
    "start_time": "2021-11-30T18:25:26.787Z"
   },
   {
    "duration": 432,
    "start_time": "2021-11-30T18:25:26.791Z"
   },
   {
    "duration": 429,
    "start_time": "2021-11-30T18:25:26.795Z"
   },
   {
    "duration": 426,
    "start_time": "2021-11-30T18:25:26.799Z"
   },
   {
    "duration": 423,
    "start_time": "2021-11-30T18:25:26.803Z"
   },
   {
    "duration": 420,
    "start_time": "2021-11-30T18:25:26.807Z"
   },
   {
    "duration": 416,
    "start_time": "2021-11-30T18:25:26.812Z"
   }
  ],
  "kernelspec": {
   "display_name": "Python 3",
   "language": "python",
   "name": "python3"
  },
  "language_info": {
   "codemirror_mode": {
    "name": "ipython",
    "version": 3
   },
   "file_extension": ".py",
   "mimetype": "text/x-python",
   "name": "python",
   "nbconvert_exporter": "python",
   "pygments_lexer": "ipython3",
   "version": "3.8.8"
  },
  "toc": {
   "base_numbering": 1,
   "nav_menu": {},
   "number_sections": true,
   "sideBar": true,
   "skip_h1_title": true,
   "title_cell": "Table of Contents",
   "title_sidebar": "Contents",
   "toc_cell": false,
   "toc_position": {
    "height": "calc(100% - 180px)",
    "left": "10px",
    "top": "150px",
    "width": "292px"
   },
   "toc_section_display": true,
   "toc_window_display": true
  }
 },
 "nbformat": 4,
 "nbformat_minor": 2
}
